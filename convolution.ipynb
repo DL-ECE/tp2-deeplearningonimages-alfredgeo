{
 "cells": [
  {
   "cell_type": "markdown",
   "metadata": {
    "colab_type": "text",
    "id": "view-in-github"
   },
   "source": [
    "<a href=\"https://colab.research.google.com/github/DL-ECE/TP-2-DLImages/blob/master/convolution.ipynb\" target=\"_parent\"><img src=\"https://colab.research.google.com/assets/colab-badge.svg\" alt=\"Open In Colab\"/></a>"
   ]
  },
  {
   "cell_type": "markdown",
   "metadata": {
    "id": "NeT-9bRdonUj"
   },
   "source": [
    "# TP-2 Deep Learning on Images"
   ]
  },
  {
   "cell_type": "markdown",
   "metadata": {
    "id": "Ll9cmbS4QIjW"
   },
   "source": [
    "## Clothes images classification using Fashion-MNIST dataset\n",
    "\n",
    "In this notebook you will train your second and even third neural network. \n",
    "\n",
    "Feel free to look back at the Lecture-2 slides to complete the cells below.\n",
    "\n",
    "\n",
    "\n",
    "All the dependencies are installed. Below we import them and will be using them in all our notebooks.\n",
    "Please feel free to look arround and look at their API.\n",
    "The student should be limited to these imports to complete this work.\n"
   ]
  },
  {
   "cell_type": "code",
   "execution_count": 9,
   "metadata": {
    "id": "l8HwsnlpWABC"
   },
   "outputs": [],
   "source": [
    "# Import the different module we will need in this notebook\n",
    "import os\n",
    "\n",
    "# To read and compute on Images: imageio [imageio doc](https://imageio.readthedocs.io/en/stable/)\n",
    "# To create some plot and figures: matplolib [matplotlib doc](https://matplotlib.org/)\n",
    "# To do computation on matrix and vectors: numpy [numpy doc](https://numpy.org/)\n",
    "import imageio\n",
    "import matplotlib.pyplot as plt\n",
    "import numpy as np\n",
    "\n",
    "# To do computation on matrix and vectors and automatic differenciation: pytorch [torch doc](https://pytorch.org/docs/stable/index.html)\n",
    "import torch\n",
    "import torch.nn as nn\n",
    "import torch.optim as optim\n",
    "from torch.nn import functional as F\n",
    "from torch.utils.data import DataLoader\n",
    "\n",
    "# To do some computation on images with pytorch direclty on the GPU [torchvision doc](https://pytorch.org/vision)\n",
    "from torchvision import transforms\n",
    "from torchvision.datasets import MNIST, FashionMNIST\n",
    "import random\n",
    "import tqdm.notebook as tq\n",
    "\n",
    "# To get the same data as TP1 \n",
    "from sklearn.datasets import fetch_openml\n",
    "from sklearn.model_selection import train_test_split\n",
    "# enable tpu computation\n",
    "# !curl https://raw.githubusercontent.com/pytorch/xla/master/contrib/scripts/env-setup.py -o pytorch-xla-env-setup.py\n",
    "# !python pytorch-xla-env-setup.py --version nightly --apt-packages libomp5 libopenblas-dev"
   ]
  },
  {
   "cell_type": "code",
   "execution_count": 10,
   "metadata": {
    "id": "O6hnJJcPSJcu"
   },
   "outputs": [],
   "source": [
    "# In order to have some reproducable results and easier debugging \n",
    "# we fix the seed of random.\n",
    "random.seed(1342)\n",
    "np.random.seed(1342)\n",
    "torch.manual_seed(1342)\n",
    "torch.cuda.manual_seed_all(1342)\n",
    "\n",
    "import builtins as __builtin__\n",
    "def print(*args, **kwargs):\n",
    "    \"\"\"My custom print() function.\"\"\"\n",
    "    return __builtin__.print(*args, **kwargs, end='\\n\\n')"
   ]
  },
  {
   "cell_type": "markdown",
   "metadata": {
    "id": "R2JALA0rnGE1"
   },
   "source": [
    "## Refresh on numpy and images"
   ]
  },
  {
   "cell_type": "code",
   "execution_count": 3,
   "metadata": {
    "colab": {
     "base_uri": "https://localhost:8080/"
    },
    "id": "a_6UGR8EUgqi",
    "outputId": "65138a30-ee23-4fd2-ec0c-8c7537dbb4da"
   },
   "outputs": [
    {
     "name": "stdout",
     "output_type": "stream",
     "text": [
      "[[ 0  1  2  3  4]\n",
      " [ 5  6  7  8  9]\n",
      " [10 11 12 13 14]]\n",
      "\n",
      "(3, 5)\n",
      "\n",
      "[0 1 2 3 4]\n",
      "\n",
      "3\n",
      "\n",
      "[[[0. 0. 0. 0.]\n",
      "  [0. 0. 0. 0.]\n",
      "  [0. 0. 0. 0.]]\n",
      "\n",
      " [[0. 0. 0. 0.]\n",
      "  [0. 0. 0. 0.]\n",
      "  [0. 0. 0. 0.]]]\n",
      "\n"
     ]
    }
   ],
   "source": [
    "# Let's do again basics of numpy \n",
    "mat_numpy = np.arange(15).reshape(3, 5)\n",
    "print(mat_numpy) # Create a vector from 0 to 14 and reshape it into a Matrix 3X5\n",
    "\n",
    "print(mat_numpy.shape) # Return the size of the matrix (3, 5)\n",
    "\n",
    "print(mat_numpy[0]) # Return the first row of the matrix \n",
    "\n",
    "print(mat_numpy[0,3]) # Return first row and 4th column  element \n",
    "\n",
    "# Also interesting with higher dimension \n",
    "# Below can be though of 2 3X4 matrix \n",
    "tensor = np.zeros((2,3,4))   # Create an tensor of shape [2,2,2] of all zeros\n",
    "print(tensor)                # Prints [[[0. 0. 0. 0.]\n",
    "                             #          [0. 0. 0. 0.]\n",
    "                             #          [0. 0. 0. 0.]]\n",
    "                             #        [[0. 0. 0. 0.]\n",
    "                             #         [0. 0. 0. 0.]\n",
    "                             #         [0. 0. 0. 0.]]]"
   ]
  },
  {
   "cell_type": "markdown",
   "metadata": {
    "id": "RHj2OBNMw5VA"
   },
   "source": [
    "Now it's your turn create a function that return a tensor of shape \n",
    "n_rowsxn_columsxn_channels that contains a default value every where"
   ]
  },
  {
   "cell_type": "code",
   "execution_count": 12,
   "metadata": {
    "id": "WR0fNMzPwtem"
   },
   "outputs": [],
   "source": [
    "def build_image_like_tensor(n_rows:int, n_colums: int, n_channels:int, default_value: int)-> np.ndarray:\n",
    "  \"\"\"Create a tensor of 3 dimension. \n",
    "     It should have a shape similar to (n_rows, n_colums, n_channels)\n",
    "     It should be containing the default value set by default_value\n",
    "  \"\"\"\n",
    "  \n",
    "  res = np.ones((n_rows, n_colums, n_channels), dtype=np.int) * default_value\n",
    "  return res\n"
   ]
  },
  {
   "cell_type": "code",
   "execution_count": 28,
   "metadata": {},
   "outputs": [
    {
     "name": "stdout",
     "output_type": "stream",
     "text": [
      "[[[150 150 150]\n",
      "  [150 150 150]\n",
      "  [150 150 150]\n",
      "  [150 150 150]\n",
      "  [150 150 150]\n",
      "  [150 150 150]\n",
      "  [150 150 150]\n",
      "  [150 150 150]\n",
      "  [150 150 150]\n",
      "  [150 150 150]\n",
      "  [150 150 150]\n",
      "  [150 150 150]]\n",
      "\n",
      " [[150 150 150]\n",
      "  [150 150 150]\n",
      "  [150 150 150]\n",
      "  [150 150 150]\n",
      "  [150 150 150]\n",
      "  [150 150 150]\n",
      "  [150 150 150]\n",
      "  [150 150 150]\n",
      "  [150 150 150]\n",
      "  [150 150 150]\n",
      "  [150 150 150]\n",
      "  [150 150 150]]\n",
      "\n",
      " [[150 150 150]\n",
      "  [150 150 150]\n",
      "  [150 150 150]\n",
      "  [150 150 150]\n",
      "  [150 150 150]\n",
      "  [150 150 150]\n",
      "  [150 150 150]\n",
      "  [150 150 150]\n",
      "  [150 150 150]\n",
      "  [150 150 150]\n",
      "  [150 150 150]\n",
      "  [150 150 150]]\n",
      "\n",
      " [[150 150 150]\n",
      "  [150 150 150]\n",
      "  [150 150 150]\n",
      "  [150 150 150]\n",
      "  [150 150 150]\n",
      "  [150 150 150]\n",
      "  [150 150 150]\n",
      "  [150 150 150]\n",
      "  [150 150 150]\n",
      "  [150 150 150]\n",
      "  [150 150 150]\n",
      "  [150 150 150]]\n",
      "\n",
      " [[150 150 150]\n",
      "  [150 150 150]\n",
      "  [150 150 150]\n",
      "  [150 150 150]\n",
      "  [150 150 150]\n",
      "  [150 150 150]\n",
      "  [150 150 150]\n",
      "  [150 150 150]\n",
      "  [150 150 150]\n",
      "  [150 150 150]\n",
      "  [150 150 150]\n",
      "  [150 150 150]]\n",
      "\n",
      " [[150 150 150]\n",
      "  [150 150 150]\n",
      "  [150 150 150]\n",
      "  [150 150 150]\n",
      "  [150 150 150]\n",
      "  [150 150 150]\n",
      "  [150 150 150]\n",
      "  [150 150 150]\n",
      "  [150 150 150]\n",
      "  [150 150 150]\n",
      "  [150 150 150]\n",
      "  [150 150 150]]\n",
      "\n",
      " [[150 150 150]\n",
      "  [150 150 150]\n",
      "  [150 150 150]\n",
      "  [150 150 150]\n",
      "  [150 150 150]\n",
      "  [150 150 150]\n",
      "  [150 150 150]\n",
      "  [150 150 150]\n",
      "  [150 150 150]\n",
      "  [150 150 150]\n",
      "  [150 150 150]\n",
      "  [150 150 150]]\n",
      "\n",
      " [[150 150 150]\n",
      "  [150 150 150]\n",
      "  [150 150 150]\n",
      "  [150 150 150]\n",
      "  [150 150 150]\n",
      "  [150 150 150]\n",
      "  [150 150 150]\n",
      "  [150 150 150]\n",
      "  [150 150 150]\n",
      "  [150 150 150]\n",
      "  [150 150 150]\n",
      "  [150 150 150]]\n",
      "\n",
      " [[150 150 150]\n",
      "  [150 150 150]\n",
      "  [150 150 150]\n",
      "  [150 150 150]\n",
      "  [150 150 150]\n",
      "  [150 150 150]\n",
      "  [150 150 150]\n",
      "  [150 150 150]\n",
      "  [150 150 150]\n",
      "  [150 150 150]\n",
      "  [150 150 150]\n",
      "  [150 150 150]]\n",
      "\n",
      " [[150 150 150]\n",
      "  [150 150 150]\n",
      "  [150 150 150]\n",
      "  [150 150 150]\n",
      "  [150 150 150]\n",
      "  [150 150 150]\n",
      "  [150 150 150]\n",
      "  [150 150 150]\n",
      "  [150 150 150]\n",
      "  [150 150 150]\n",
      "  [150 150 150]\n",
      "  [150 150 150]]\n",
      "\n",
      " [[150 150 150]\n",
      "  [150 150 150]\n",
      "  [150 150 150]\n",
      "  [150 150 150]\n",
      "  [150 150 150]\n",
      "  [150 150 150]\n",
      "  [150 150 150]\n",
      "  [150 150 150]\n",
      "  [150 150 150]\n",
      "  [150 150 150]\n",
      "  [150 150 150]\n",
      "  [150 150 150]]\n",
      "\n",
      " [[150 150 150]\n",
      "  [150 150 150]\n",
      "  [150 150 150]\n",
      "  [150 150 150]\n",
      "  [150 150 150]\n",
      "  [150 150 150]\n",
      "  [150 150 150]\n",
      "  [150 150 150]\n",
      "  [150 150 150]\n",
      "  [150 150 150]\n",
      "  [150 150 150]\n",
      "  [150 150 150]]]\n",
      "\n"
     ]
    }
   ],
   "source": [
    "print(white_like)"
   ]
  },
  {
   "cell_type": "code",
   "execution_count": 26,
   "metadata": {
    "id": "LYPMAOSdxi8S"
   },
   "outputs": [],
   "source": [
    "# Create 3 different tensors with the above function containing different value between [0,255]\n",
    "# Uncomment the 3 line below and complete with your answer \n",
    "\n",
    "white_like = build_image_like_tensor(12, 12, 3, 150)\n",
    "# gray_like = build_image_like_tensor(...)\n",
    "# black_like = build_image_like_tensor(...)\n"
   ]
  },
  {
   "cell_type": "code",
   "execution_count": 17,
   "metadata": {
    "id": "wI1sR5lWyTvG"
   },
   "outputs": [],
   "source": [
    "# Each of the tensor that you have created can be seen as an image. Use here is the way to display it using matplotlib imshow:\n",
    "def plot_one_tensor(image_tensor: np.array):\n",
    "    \"\"\"Function to plot the image tensor\"\"\"\n",
    "    plt.imshow(image_tensor, cmap='gray')"
   ]
  },
  {
   "cell_type": "code",
   "execution_count": 27,
   "metadata": {
    "id": "RMKHtF-FnGFP"
   },
   "outputs": [
    {
     "data": {
      "image/png": "[encoded data removed]",
      "text/plain": [
       "<Figure size 432x288 with 1 Axes>"
      ]
     },
     "metadata": {
      "needs_background": "light"
     },
     "output_type": "display_data"
    }
   ],
   "source": [
    "plot_one_tensor(white_like)"
   ]
  },
  {
   "cell_type": "code",
   "execution_count": 10,
   "metadata": {
    "id": "v8nnjpziXJyo"
   },
   "outputs": [],
   "source": [
    "# plot_one_tensor(gray_like)"
   ]
  },
  {
   "cell_type": "code",
   "execution_count": 11,
   "metadata": {
    "id": "nJ6-IuvlnGFW"
   },
   "outputs": [],
   "source": [
    "# plot_one_tensor(black_like)"
   ]
  },
  {
   "cell_type": "markdown",
   "metadata": {
    "id": "ncTl3AjcnGFb"
   },
   "source": [
    "We saw that an digital image is the combination of a 3 channel tensor RGB. \n",
    "Each channel represent respectively the R red componant, G greed componant, B blue componant. "
   ]
  },
  {
   "cell_type": "code",
   "execution_count": 12,
   "metadata": {
    "id": "hUtptCwanGFc"
   },
   "outputs": [],
   "source": [
    "# Create again 3 image tensors with your function\n",
    "# Then change them to be representing a red, a green, a blue image\n",
    "# Uncomment the 3 line below and complete with your answer \n",
    "\n",
    "\n",
    "# red_like = build_image_like_tensor(...)\n",
    "# green_like = build_image_like_tensor(...)\n",
    "# blue_like = build_image_like_tensor(...)\n",
    " "
   ]
  },
  {
   "cell_type": "code",
   "execution_count": 13,
   "metadata": {
    "id": "-jXLgMmfnGFh"
   },
   "outputs": [],
   "source": [
    "#plot_one_tensor(red_like)"
   ]
  },
  {
   "cell_type": "code",
   "execution_count": 14,
   "metadata": {
    "id": "DL0iMGb6nGFl"
   },
   "outputs": [],
   "source": [
    "#plot_one_tensor(green_like)"
   ]
  },
  {
   "cell_type": "code",
   "execution_count": 15,
   "metadata": {
    "id": "iOtqQNcCnGFp"
   },
   "outputs": [],
   "source": [
    "#plot_one_tensor(blue_like)"
   ]
  },
  {
   "cell_type": "markdown",
   "metadata": {
    "id": "q7Ucg7xRQDwn"
   },
   "source": [
    "## What Pytorch can do\n",
    "\n",
    "*   Similar functions to Numpy on GPU\n",
    "*   Calculate automatically gradient on the neural network\n",
    "*   Some neural networks layers are already coded : dense, convolution, pooling, etc\n",
    "*   Calculate automatically the weights update\n",
    "*   Provide optimizer to compute gradient descent \n",
    "\n"
   ]
  },
  {
   "cell_type": "code",
   "execution_count": 29,
   "metadata": {
    "colab": {
     "base_uri": "https://localhost:8080/"
    },
    "id": "UjeKBFJHXYl8",
    "outputId": "8fe731a7-e232-4149-ccda-7bfbb5dfccda"
   },
   "outputs": [
    {
     "name": "stdout",
     "output_type": "stream",
     "text": [
      "tensor([[ 0,  1,  2,  3,  4],\n",
      "        [ 5,  6,  7,  8,  9],\n",
      "        [10, 11, 12, 13, 14]])\n",
      "\n",
      "torch.Size([3, 5])\n",
      "\n",
      "tensor([0, 1, 2, 3, 4])\n",
      "\n",
      "tensor(3)\n",
      "\n"
     ]
    }
   ],
   "source": [
    "mat_torch = torch.arange(15).reshape(3,5)\n",
    "\n",
    "print(mat_torch) # Create a vector from 0 to 14 and reshape it into a Matrix 3X5\n",
    "print(mat_torch.shape) # Return the size of the matrix (3, 5)\n",
    "print(mat_torch[0]) # Return the first row of the matrix \n",
    "print(mat_torch[0,3]) # Return first row and 4th column element \n",
    "# This was easy but everything was on the CPU so it's the same as Numpy \n",
    "# To do computation on the GPU (graphic card calculation can be 50x faster)"
   ]
  },
  {
   "cell_type": "code",
   "execution_count": 30,
   "metadata": {
    "colab": {
     "base_uri": "https://localhost:8080/"
    },
    "id": "S4fBZlMHYMqI",
    "outputId": "7b160242-3223-4194-bdef-2115480947e3"
   },
   "outputs": [
    {
     "data": {
      "text/plain": [
       "device(type='cuda')"
      ]
     },
     "execution_count": 30,
     "metadata": {},
     "output_type": "execute_result"
    }
   ],
   "source": [
    "# What is the GPU on this machine ? \n",
    "# !nvidia-smi\n",
    "device = torch.device(\"cuda\" if torch.cuda.is_available() else \"cpu\")\n",
    "device"
   ]
  },
  {
   "cell_type": "code",
   "execution_count": 31,
   "metadata": {
    "colab": {
     "base_uri": "https://localhost:8080/"
    },
    "id": "ujP5e7pGYLCh",
    "outputId": "79051636-5df1-4c11-9b13-8460608c7c2a"
   },
   "outputs": [
    {
     "name": "stdout",
     "output_type": "stream",
     "text": [
      "tensor([[ 0,  1,  2,  3,  4],\n",
      "        [ 5,  6,  7,  8,  9],\n",
      "        [10, 11, 12, 13, 14]], device='cuda:0')\n",
      "\n",
      "torch.Size([3, 5])\n",
      "\n",
      "tensor([0, 1, 2, 3, 4], device='cuda:0')\n",
      "\n",
      "tensor(3, device='cuda:0')\n",
      "\n"
     ]
    }
   ],
   "source": [
    "mat_torch = torch.arange(15, device=device).reshape(3,5)\n",
    "print(mat_torch) # Create a vector from 0 to 14 and reshape it into a Matrix 3X5\n",
    "print(mat_torch.shape) # Return the size of the matrix (3, 5)\n",
    "print(mat_torch[0]) # Return the first row of the matrix \n",
    "print(mat_torch[0,3]) # Return first row and 4th column element "
   ]
  },
  {
   "cell_type": "markdown",
   "metadata": {
    "id": "-YQO8LsGZ8iq"
   },
   "source": [
    "Let's say we want a faster sigmoid and softmax. \n",
    "We can use the same function from TP-1"
   ]
  },
  {
   "cell_type": "code",
   "execution_count": 43,
   "metadata": {
    "id": "g0bUELpAYn0O"
   },
   "outputs": [],
   "source": [
    "def normalize_tensor(input_tensor: torch.Tensor) -> torch.Tensor:\n",
    "    \"\"\"Apply a normalization to the tensor\"\"\"\n",
    "    return input_tensor / 255.0\n",
    "   \n",
    "\n",
    "def sigmoid(input_tensor: torch.Tensor) -> torch.Tensor:\n",
    "    \"\"\"Apply a sigmoid to the input Tensor\"\"\"\n",
    "    # YOUR CODE HERE\n",
    "    z = 1/(1 + torch.exp(-x))\n",
    "    return z\n",
    "\n",
    "def softmax(input_tensor: torch.Tensor)-> torch.Tensor:\n",
    "    \"\"\"Apply a softmax to the input tensor\"\"\"\n",
    "    # YOUR CODE HERE \n",
    "    z = torch.nn.softmax(input_tensor)\n",
    "    return z\n",
    "\n",
    "def target_to_one_hot(target: torch.Tensor, num_classes=10) -> torch.Tensor:\n",
    "    \"\"\"Create the one hot representation of the target\"\"\" \n",
    "    one_hot = torch.zeros((targets.shape[0], num_classes))\n",
    "    for num, target in enumerate(target):\n",
    "        one_hot[num, target] =1 \n",
    "    return one_hot"
   ]
  },
  {
   "cell_type": "code",
   "execution_count": 44,
   "metadata": {},
   "outputs": [
    {
     "data": {
      "text/plain": [
       "tensor([[1., 0., 0., 0., 0., 0., 0., 0., 0., 0.],\n",
       "        [0., 1., 0., 0., 0., 0., 0., 0., 0., 0.],\n",
       "        [0., 0., 0., 0., 0., 0., 0., 0., 0., 1.]])"
      ]
     },
     "execution_count": 44,
     "metadata": {},
     "output_type": "execute_result"
    }
   ],
   "source": []
  },
  {
   "cell_type": "code",
   "execution_count": 20,
   "metadata": {
    "id": "E3Je20wNZuj0"
   },
   "outputs": [],
   "source": [
    "# However as mention above pytorch already has some built-ins function \n",
    "\n",
    "# sigmoid function [sigmoid doc](https://pytorch.org/docs/stable/generated/torch.nn.Sigmoid.html?highlight=sigmoid#torch.nn.Sigmoid)\n",
    "# softmax function [softmax doc](https://pytorch.org/docs/stable/generated/torch.nn.Softmax.html?highlight=softmax#torch.nn.Softmax) \n"
   ]
  },
  {
   "cell_type": "code",
   "execution_count": 21,
   "metadata": {
    "id": "zXpmI-kTbq4T"
   },
   "outputs": [],
   "source": [
    "mat_torch = torch.arange(15, dtype=torch.float64, device=device).reshape(3,5)\n",
    "# Uncomment the line bellow to check if your implementation is correct\n",
    "\n",
    "# assert torch.allclose(sigmoid(mat_torch), torch.sigmoid(mat_torch))\n",
    "# print(sigmoid(mat_torch))\n",
    "# print(torch.sigmoid(mat_torch))\n",
    "\n",
    "# assert torch.allclose(sotfmax(mat_torch))\n",
    "# print(softmax(mat_torch))\n",
    "# print(torch.softmax(mat_torch, dim=1))"
   ]
  },
  {
   "cell_type": "markdown",
   "metadata": {
    "id": "Mp405FXquGqz"
   },
   "source": [
    "## Transforming our Neural network from TP1"
   ]
  },
  {
   "cell_type": "code",
   "execution_count": 22,
   "metadata": {
    "colab": {
     "base_uri": "https://localhost:8080/",
     "height": 235
    },
    "id": "mCnZAR7x2yUl",
    "outputId": "91b1aecd-dd5d-4697-cbcc-931b3d54bbac"
   },
   "outputs": [
    {
     "ename": "AttributeError",
     "evalue": "'NoneType' object has no attribute 'astype'",
     "output_type": "error",
     "traceback": [
      "\u001b[0;31m---------------------------------------------------------------------------\u001b[0m",
      "\u001b[0;31mAttributeError\u001b[0m                            Traceback (most recent call last)",
      "\u001b[0;32m<ipython-input-22-f4abb18c152a>\u001b[0m in \u001b[0;36m<module>\u001b[0;34m\u001b[0m\n\u001b[1;32m      7\u001b[0m \u001b[0;34m\u001b[0m\u001b[0m\n\u001b[1;32m      8\u001b[0m     \u001b[0mX_train\u001b[0m \u001b[0;34m=\u001b[0m \u001b[0mnormalize_tensor\u001b[0m\u001b[0;34m(\u001b[0m\u001b[0mX_train\u001b[0m\u001b[0;34m)\u001b[0m\u001b[0;34m\u001b[0m\u001b[0;34m\u001b[0m\u001b[0m\n\u001b[0;32m----> 9\u001b[0;31m     \u001b[0mX_train\u001b[0m \u001b[0;34m=\u001b[0m \u001b[0mtorch\u001b[0m\u001b[0;34m.\u001b[0m\u001b[0mfrom_numpy\u001b[0m\u001b[0;34m(\u001b[0m\u001b[0mX_train\u001b[0m\u001b[0;34m.\u001b[0m\u001b[0mastype\u001b[0m\u001b[0;34m(\u001b[0m\u001b[0mnp\u001b[0m\u001b[0;34m.\u001b[0m\u001b[0mfloat32\u001b[0m\u001b[0;34m)\u001b[0m\u001b[0;34m)\u001b[0m\u001b[0;34m\u001b[0m\u001b[0;34m\u001b[0m\u001b[0m\n\u001b[0m\u001b[1;32m     10\u001b[0m \u001b[0;34m\u001b[0m\u001b[0m\n\u001b[1;32m     11\u001b[0m     \u001b[0mX_test\u001b[0m \u001b[0;34m=\u001b[0m \u001b[0mnormalize_tensor\u001b[0m\u001b[0;34m(\u001b[0m\u001b[0mX_test\u001b[0m\u001b[0;34m)\u001b[0m\u001b[0;34m\u001b[0m\u001b[0;34m\u001b[0m\u001b[0m\n",
      "\u001b[0;31mAttributeError\u001b[0m: 'NoneType' object has no attribute 'astype'"
     ]
    }
   ],
   "source": [
    "if __name__ == \"__main__\":\n",
    "    # Downloading again the same MNIST dataset \n",
    "\n",
    "    mnist_data, mnist_target = fetch_openml('mnist_784', version=1, return_X_y=True)\n",
    "    X_train, X_test, y_train, y_test = train_test_split(mnist_data, mnist_target, test_size=0.33, random_state=1342)\n",
    "    # Change the input data to be normalize and target data to be correctly encoded \n",
    "\n",
    "    X_train = normalize_tensor(X_train)\n",
    "    X_train = torch.from_numpy(X_train.astype(np.float32))\n",
    "\n",
    "    X_test = normalize_tensor(X_test)\n",
    "    X_test = torch.from_numpy(X_test.astype(np.float32))\n",
    "\n",
    "    y_train = target_to_one_hot(y_train)\n",
    "    y_train = torch.from_numpy(y_train).long()\n",
    "\n",
    "    y_test = target_to_one_hot(y_test)\n",
    "    y_test = torch.from_numpy(y_test).long()"
   ]
  },
  {
   "cell_type": "markdown",
   "metadata": {
    "id": "iYxuYKhUuT6U"
   },
   "source": [
    "Your remember the famous `class FFNN` from **TP1** ?? \n",
    "\n",
    "Here we will create the same version but with pytorch and we will see the power of this framework. \n",
    "\n",
    "Auto calculation of the backward pass and auto update of the weights 🎉 "
   ]
  },
  {
   "cell_type": "markdown",
   "metadata": {
    "id": "x677wA4zvtMR"
   },
   "source": [
    "In pytorch a dense layer similar to our `Class Layer` is a called **Linear Layer**\n",
    "\n",
    "[linear layer documentation] -> https://pytorch.org/docs/stable/generated/torch.nn.Linear.html#torch.nn.Linear"
   ]
  },
  {
   "cell_type": "code",
   "execution_count": 24,
   "metadata": {
    "id": "QlBuCmXNxIRY"
   },
   "outputs": [],
   "source": [
    "class FFNN(nn.Module):\n",
    "    def __init__(self, config, device, minibatch_size=100, learning_rate=0.01, momentum=0):\n",
    "        super().__init__()\n",
    "        self.layers = []\n",
    "        self.nlayers = len(config)\n",
    "        self.minibatch_size = minibatch_size\n",
    "        self.learning_rate = learning_rate\n",
    "        self.momentum = momentum\n",
    "        self.device = device \n",
    "\n",
    "        # We use the built-in activation functions\n",
    "        # TODO: Maybe try with another activation function ! \n",
    "        self.activation = torch.nn.Sigmoid()\n",
    "        # self.activation = torch.nn.ReLU()\n",
    "\n",
    "\n",
    "        self.last_activation = torch.nn.Softmax(dim=1)\n",
    "\n",
    "        # First difference we don't need a special Input layer 😃\n",
    "        # Second one we can declare them more easely\n",
    "        for i in range(1,len(config)):\n",
    "          layer = nn.Linear(config[i-1], config[i])\n",
    "          self.layers.append(layer)\n",
    "          self.layers.append(self.activation)\n",
    "\n",
    "        self.layers[-1]= self.last_activation\n",
    "        self.model = nn.Sequential(*self.layers)\n",
    "\n",
    "        # We use the built-in function to compute the loss\n",
    "        # TODO: Maybe try with another loss function ! \n",
    "        self.loss_function = torch.nn.MSELoss()\n",
    "        # self.loss_function = torch.nn.CrossEntropyLoss()\n",
    "\n",
    "        # We use the built-in function to update the model weights\n",
    "        self.optimizer = optim.SGD(self.model.parameters(), lr=self.learning_rate, momentum=self.momentum)\n",
    "\n",
    "    # Here we see the power of Pytorch\n",
    "    # The forward is just giving the input to our model\n",
    "    def forward(self, input_tensor: torch.Tensor) -> torch.Tensor:\n",
    "      y_pred = self.model(input_tensor)\n",
    "      return y_pred\n",
    "\n",
    "    def compute_loss(self, y_pred: torch.Tensor, y_true) -> torch.Tensor:\n",
    "        y_true = torch.argmax(y_true, dim=1)\n",
    "        loss = self.loss_function(y_pred.float(), y_true)\n",
    "        # looking at what the loss looks like\n",
    "        # print(loss)\n",
    "        return loss\n",
    "\n",
    "    # Even more powerful no need to code all the derivative of the different function\n",
    "    def backward_pass(self, loss: torch.tensor) -> None:\n",
    "        loss.backward()\n",
    "        return\n",
    "\n",
    "    # The previoulsy hard function to update the weight become also easy\n",
    "    def update_all_weights(self):\n",
    "      # Using pytorch\n",
    "      self.optimizer.step()\n",
    "\n",
    "\n",
    "    def get_error(self, y_pred, y_true) -> float:\n",
    "      y_pred = torch.argmax(y_pred, dim=1)\n",
    "      y_true = torch.argmax(y_true, dim=1)\n",
    "      return (y_pred == y_true).float().mean()\n",
    "\n",
    "    def get_test_error(self, X_test, y_test) -> float:\n",
    "      nbatch = X_test.shape[0]\n",
    "      error_sum = 0.0\n",
    "      for i in range(0, nbatch):\n",
    "          X_batch = X_test[i,:,:].reshape(self.minibatch_size, -1)\n",
    "          y_batch = y_test[i,:,:].reshape(self.minibatch_size, -1)\n",
    "          y_pred = self.model(X_batch)\n",
    "          error_sum += self.get_error(y_pred, y_batch)\n",
    "      return error_sum / nbatch\n",
    "\n",
    "    def train(self, n_epochs: int, X_train: torch.Tensor, y_train: torch.Tensor, X_test: torch.Tensor, y_test: torch.Tensor):\n",
    "      X_train = X_train.reshape(-1, self.minibatch_size, 784).to(self.device)\n",
    "      y_train = y_train.reshape(-1, self.minibatch_size, 10).to(self.device)\n",
    "\n",
    "      X_test = X_test.reshape(-1, self.minibatch_size, 784).to(self.device)\n",
    "      y_test = y_test.reshape(-1, self.minibatch_size, 10).to(self.device)\n",
    "\n",
    "      \n",
    "      self.model = self.model.to(device)\n",
    "      nbatch = X_train.shape[0]\n",
    "      error_test = 0.0\n",
    "      for epoch in range(n_epochs): \n",
    "        error_sum_train = 0.0\n",
    "        for i in range(0, nbatch):\n",
    "          X_batch = X_train[i,:, :]\n",
    "          y_batch = y_train[i,:, :]\n",
    "          # In order to have the correct derivative we remove the one from before \n",
    "          self.optimizer.zero_grad()\n",
    "          # Then we do a pass forward \n",
    "          y_pred = self.model(X_batch)\n",
    "          # We compute the loss \n",
    "          loss = self.compute_loss(y_pred, y_batch)\n",
    "          # And calculate the backward pass\n",
    "          self.backward_pass(loss=loss)\n",
    "          # To finally update the weights using stochastic gradient descent \n",
    "          self.update_all_weights()\n",
    "          error_sum_train += self.get_error(y_pred, y_batch)\n",
    "        error_test = self.get_test_error(X_test, y_test)\n",
    "        \n",
    "        print(f\"Training Loss: {loss:.3f}, Training accuracy: {error_sum_train / nbatch:.3f}, Test accuracy: {error_test:.3f}\")\n",
    "      return loss, error_test"
   ]
  },
  {
   "cell_type": "code",
   "execution_count": 25,
   "metadata": {
    "id": "LAzW9AJMzyOq",
    "tags": []
   },
   "outputs": [
    {
     "name": "stdout",
     "output_type": "stream",
     "text": [
      "FFNN(\n",
      "  (activation): Sigmoid()\n",
      "  (last_activation): Softmax(dim=1)\n",
      "  (model): Sequential(\n",
      "    (0): Linear(in_features=784, out_features=256, bias=True)\n",
      "    (1): Sigmoid()\n",
      "    (2): Linear(in_features=256, out_features=128, bias=True)\n",
      "    (3): Sigmoid()\n",
      "    (4): Linear(in_features=128, out_features=10, bias=True)\n",
      "    (5): Softmax(dim=1)\n",
      "  )\n",
      "  (loss_function): MSELoss()\n",
      ")\n",
      "\n"
     ]
    },
    {
     "ename": "AttributeError",
     "evalue": "'NoneType' object has no attribute 'reshape'",
     "output_type": "error",
     "traceback": [
      "\u001b[0;31m---------------------------------------------------------------------------\u001b[0m",
      "\u001b[0;31mAttributeError\u001b[0m                            Traceback (most recent call last)",
      "\u001b[0;32m<ipython-input-25-4aa6ea34d055>\u001b[0m in \u001b[0;36m<module>\u001b[0;34m\u001b[0m\n\u001b[1;32m      5\u001b[0m     \u001b[0mffnn\u001b[0m \u001b[0;34m=\u001b[0m \u001b[0mFFNN\u001b[0m\u001b[0;34m(\u001b[0m\u001b[0mconfig\u001b[0m\u001b[0;34m=\u001b[0m\u001b[0;34m[\u001b[0m\u001b[0;36m784\u001b[0m\u001b[0;34m,\u001b[0m \u001b[0;36m256\u001b[0m\u001b[0;34m,\u001b[0m \u001b[0;36m128\u001b[0m\u001b[0;34m,\u001b[0m \u001b[0;36m10\u001b[0m\u001b[0;34m]\u001b[0m\u001b[0;34m,\u001b[0m \u001b[0mdevice\u001b[0m\u001b[0;34m=\u001b[0m\u001b[0mdevice\u001b[0m\u001b[0;34m,\u001b[0m \u001b[0mminibatch_size\u001b[0m\u001b[0;34m=\u001b[0m\u001b[0mminibatch_size\u001b[0m\u001b[0;34m,\u001b[0m \u001b[0mlearning_rate\u001b[0m\u001b[0;34m=\u001b[0m\u001b[0mlearning_rate\u001b[0m\u001b[0;34m)\u001b[0m\u001b[0;34m\u001b[0m\u001b[0;34m\u001b[0m\u001b[0m\n\u001b[1;32m      6\u001b[0m     \u001b[0mprint\u001b[0m\u001b[0;34m(\u001b[0m\u001b[0mffnn\u001b[0m\u001b[0;34m)\u001b[0m\u001b[0;34m\u001b[0m\u001b[0;34m\u001b[0m\u001b[0m\n\u001b[0;32m----> 7\u001b[0;31m     \u001b[0mloss\u001b[0m\u001b[0;34m,\u001b[0m \u001b[0merr\u001b[0m \u001b[0;34m=\u001b[0m \u001b[0mffnn\u001b[0m\u001b[0;34m.\u001b[0m\u001b[0mtrain\u001b[0m\u001b[0;34m(\u001b[0m\u001b[0mnepoch\u001b[0m\u001b[0;34m,\u001b[0m \u001b[0mX_train\u001b[0m\u001b[0;34m,\u001b[0m \u001b[0my_train\u001b[0m\u001b[0;34m,\u001b[0m \u001b[0mX_test\u001b[0m\u001b[0;34m,\u001b[0m \u001b[0my_test\u001b[0m\u001b[0;34m)\u001b[0m\u001b[0;34m\u001b[0m\u001b[0;34m\u001b[0m\u001b[0m\n\u001b[0m",
      "\u001b[0;32m<ipython-input-24-86287e3ebe5b>\u001b[0m in \u001b[0;36mtrain\u001b[0;34m(self, n_epochs, X_train, y_train, X_test, y_test)\u001b[0m\n\u001b[1;32m     75\u001b[0m \u001b[0;34m\u001b[0m\u001b[0m\n\u001b[1;32m     76\u001b[0m     \u001b[0;32mdef\u001b[0m \u001b[0mtrain\u001b[0m\u001b[0;34m(\u001b[0m\u001b[0mself\u001b[0m\u001b[0;34m,\u001b[0m \u001b[0mn_epochs\u001b[0m\u001b[0;34m:\u001b[0m \u001b[0mint\u001b[0m\u001b[0;34m,\u001b[0m \u001b[0mX_train\u001b[0m\u001b[0;34m:\u001b[0m \u001b[0mtorch\u001b[0m\u001b[0;34m.\u001b[0m\u001b[0mTensor\u001b[0m\u001b[0;34m,\u001b[0m \u001b[0my_train\u001b[0m\u001b[0;34m:\u001b[0m \u001b[0mtorch\u001b[0m\u001b[0;34m.\u001b[0m\u001b[0mTensor\u001b[0m\u001b[0;34m,\u001b[0m \u001b[0mX_test\u001b[0m\u001b[0;34m:\u001b[0m \u001b[0mtorch\u001b[0m\u001b[0;34m.\u001b[0m\u001b[0mTensor\u001b[0m\u001b[0;34m,\u001b[0m \u001b[0my_test\u001b[0m\u001b[0;34m:\u001b[0m \u001b[0mtorch\u001b[0m\u001b[0;34m.\u001b[0m\u001b[0mTensor\u001b[0m\u001b[0;34m)\u001b[0m\u001b[0;34m:\u001b[0m\u001b[0;34m\u001b[0m\u001b[0;34m\u001b[0m\u001b[0m\n\u001b[0;32m---> 77\u001b[0;31m       \u001b[0mX_train\u001b[0m \u001b[0;34m=\u001b[0m \u001b[0mX_train\u001b[0m\u001b[0;34m.\u001b[0m\u001b[0mreshape\u001b[0m\u001b[0;34m(\u001b[0m\u001b[0;34m-\u001b[0m\u001b[0;36m1\u001b[0m\u001b[0;34m,\u001b[0m \u001b[0mself\u001b[0m\u001b[0;34m.\u001b[0m\u001b[0mminibatch_size\u001b[0m\u001b[0;34m,\u001b[0m \u001b[0;36m784\u001b[0m\u001b[0;34m)\u001b[0m\u001b[0;34m.\u001b[0m\u001b[0mto\u001b[0m\u001b[0;34m(\u001b[0m\u001b[0mself\u001b[0m\u001b[0;34m.\u001b[0m\u001b[0mdevice\u001b[0m\u001b[0;34m)\u001b[0m\u001b[0;34m\u001b[0m\u001b[0;34m\u001b[0m\u001b[0m\n\u001b[0m\u001b[1;32m     78\u001b[0m       \u001b[0my_train\u001b[0m \u001b[0;34m=\u001b[0m \u001b[0my_train\u001b[0m\u001b[0;34m.\u001b[0m\u001b[0mreshape\u001b[0m\u001b[0;34m(\u001b[0m\u001b[0;34m-\u001b[0m\u001b[0;36m1\u001b[0m\u001b[0;34m,\u001b[0m \u001b[0mself\u001b[0m\u001b[0;34m.\u001b[0m\u001b[0mminibatch_size\u001b[0m\u001b[0;34m,\u001b[0m \u001b[0;36m10\u001b[0m\u001b[0;34m)\u001b[0m\u001b[0;34m.\u001b[0m\u001b[0mto\u001b[0m\u001b[0;34m(\u001b[0m\u001b[0mself\u001b[0m\u001b[0;34m.\u001b[0m\u001b[0mdevice\u001b[0m\u001b[0;34m)\u001b[0m\u001b[0;34m\u001b[0m\u001b[0;34m\u001b[0m\u001b[0m\n\u001b[1;32m     79\u001b[0m \u001b[0;34m\u001b[0m\u001b[0m\n",
      "\u001b[0;31mAttributeError\u001b[0m: 'NoneType' object has no attribute 'reshape'"
     ]
    }
   ],
   "source": [
    "if __name__ == \"__main__\":\n",
    "    minibatch_size = 28\n",
    "    nepoch = 50\n",
    "    learning_rate = 0.1\n",
    "    ffnn = FFNN(config=[784, 256, 128, 10], device=device, minibatch_size=minibatch_size, learning_rate=learning_rate)\n",
    "    print(ffnn)\n",
    "    loss, err = ffnn.train(nepoch, X_train, y_train, X_test, y_test)"
   ]
  },
  {
   "cell_type": "markdown",
   "metadata": {
    "id": "dTQ_8e8gK3RA"
   },
   "source": [
    "In pytorch a very convinient way to load data in batch si to use the data loader. \n",
    "\n",
    "Let's update the class to use it, we are also going to use dataset available in pytorch vision."
   ]
  },
  {
   "cell_type": "code",
   "execution_count": 44,
   "metadata": {
    "id": "ei5R8mqlxOZi"
   },
   "outputs": [],
   "source": [
    "class FFNNModel(nn.Module):\n",
    "    def __init__(self, classes=10):\n",
    "        super().__init__()\n",
    "        # not the best model...\n",
    "        self.l1 = torch.nn.Linear(784, 256)\n",
    "        self.l2 = torch.nn.Linear(256, 128)\n",
    "        self.l3 = torch.nn.Linear(128, classes)\n",
    "        self.activation = torch.nn.ReLU()\n",
    "        self.last_activation = torch.nn.Softmax(dim=1)\n",
    "\n",
    "    def forward(self, input):\n",
    "        input = input.reshape(input.size(0), -1)\n",
    "        x = self.l1(input)\n",
    "        x = self.activation(x)\n",
    "        x = self.l2(x)\n",
    "        x = self.activation(x)\n",
    "        x = self.l3(x)\n",
    "        y = self.last_activation(x)\n",
    "        return y\n",
    "\n",
    "def train_one_epoch(model, device, data_loader, optimizer):\n",
    "    train_loss = 0\n",
    "    correct = 0\n",
    "    for num, (data, target) in tq.tqdm(enumerate(data_loader), total=len(data_loader.dataset)/data_loader.batch_size):\n",
    "        data, target = data.to(device), target.to(device)\n",
    "        optimizer.zero_grad()\n",
    "        output = model(data)\n",
    "\n",
    "        loss = F.cross_entropy(output, target)\n",
    "        loss.backward()\n",
    "        train_loss += loss.item()\n",
    "        optimizer.step()\n",
    "\n",
    "        prediction = output.argmax(dim=1)\n",
    "        correct += torch.sum(prediction.eq(target)).item()\n",
    "\n",
    "    result = {'loss': train_loss / len(data_loader.dataset),\n",
    "              'accuracy': correct / len(data_loader.dataset)\n",
    "              }\n",
    "    return result   \n",
    " \n",
    "def evaluation(model, device, data_loader):\n",
    "    eval_loss = 0\n",
    "    correct = 0\n",
    "\n",
    "    for num, (data, target) in tq.tqdm(enumerate(data_loader), total=len(data_loader.dataset)/data_loader.batch_size):\n",
    "        data, target = data.to(device), target.to(device)\n",
    "        output = model(data)\n",
    "        eval_loss += F.cross_entropy(output, target).item()\n",
    "        prediction = output.argmax(dim=1)\n",
    "        correct += torch.sum(prediction.eq(target)).item()\n",
    "    result = {'loss': eval_loss / len(data_loader.dataset),\n",
    "              'accuracy': correct / len(data_loader.dataset)\n",
    "              }\n",
    "    return result"
   ]
  },
  {
   "cell_type": "code",
   "execution_count": 45,
   "metadata": {
    "colab": {
     "base_uri": "https://localhost:8080/",
     "height": 1000,
     "referenced_widgets": [
      "f799662460b74057b45d1ed1729d39b2",
      "bff25c9970db4f8fbf7035e2a8a9754c",
      "6ccc22055a9b44bf8545d46d3fa81055",
      "f8f2427461ca4192980b6f5528b6a53d",
      "ba22f162166542ef9ab1c2706b9e6ac3",
      "ee319a035058442287ce822bba02ad71",
      "913eb5789e154eeea03d6e5f11bd6601",
      "d045b0248bb34ca08f5a10a50381a0aa",
      "4d0d38fbd9d847619452aee4876ad2b5",
      "8116a43cf6074b9c8dc724d58ac84099",
      "f9b255bc935e4c78ae2779cae7baa6ac",
      "822d00acf42943c69ccb246433f1f9f1",
      "4c44d2f96f984ce9ba07bb811625b782",
      "b4b143707ea047e88ae6808095a88673",
      "9a21b83b4d4e47919e18f9095aa72d21",
      "9d23196646de4c91b1eaa195cddf6d71",
      "91083134402f4d2393fd49ae32cc5032",
      "9a7d6496b461448d9cb16448dd012696",
      "141bc0b35838446cba79679fdacc029f",
      "a63187339f1843e793133c5427963658",
      "f8fa20e4d39e47dab126a4c1894be773",
      "4d297c3e5cab4df583216441c21d1134",
      "3db78495a86a430aa5e0be42660b7a7f",
      "ada6d502525f42c3b683be6cbb01c68a",
      "020960f29de740109e7026f69bc4d20f",
      "e63529e7eb3240b287d9710e0c08d18b",
      "20782da352d6486abe6e06170a1f89a7",
      "d46271ece22b4859941b0b0f1917ff3a",
      "6f86ed3cb5ab4a2592d4bef690217ad9",
      "ba7ac4e9015c4905aed2321941ab7236",
      "bda87d92c6684eb09c60ad422d10c682",
      "ccf4f301ffd5458f8ffac577bfac4cdf",
      "8e2d702246d64e41a7970585f9b30d64",
      "5701dea79fb6484182704ff6b7d74371",
      "34815995a02b4340addecb460ea02b3d",
      "7cdc12313af546979ed48937d5ad2fa9",
      "1ad6843bd1004b508785c77270f7ddc5",
      "427d854baff04951a40aa2fcee0fc25b",
      "304d7998d8184f3184fda8f6b11452cc",
      "6170f0b4fb3a43d08d2a47df424b7b9a",
      "410037aaa59a41d48840255c71c75acf",
      "a072d18c7ea64d81ad92f2e70919ab5b",
      "b0e9633c0d1a4be4960ce22a2c02904e",
      "9eaffea447534fbb9aa9c20158a0f063",
      "3dd5d6399d6346deba300612936a92a2",
      "aac154568aa744bfb693efba3780fcd7",
      "101d40afbdc74e7fb195f13ff5f4568d",
      "85f9941dc5b84f3e97cb1f88bb550414",
      "0cf813b94a2e44739fea48e1acfeb648",
      "ee78efa9aee54b6b8ff235f118b8a313",
      "cef13148cef0417c8a738ab6746d61eb",
      "d5cfcb8df03f478b8c962d550e90b807",
      "a412a674d8dc49b893dbee6acd87e857",
      "ecdebf75db9f49ec93a9339aa3858135",
      "4a2807d7958a48158724880723b634f9",
      "a17fa58372084bcd89c12c1f8339abce",
      "f7204aead90a433a92bd2271863daf3b",
      "176e2e730a234cf5bdeacef7252ce927",
      "64b1c2c466a4437280f2f7dc87e4a06f",
      "22a6d1b8b78a4db5a478d7dacfdf4572",
      "a632d187c67e4f05bbf85a22e5f2d133",
      "28d28d4417a64e5a96aec8f05514ad62",
      "8dbe44651e9e445698ca5559bf763f3e",
      "212e2cb095e6467b8b9277accc773f13",
      "80754b11bf2742f1825af114fd803bef",
      "a3fbe2b420d04d6490a2a70afff0b920",
      "009ee9a6532b43d38121eab9da96b945",
      "3f0bbff53a04410b9512a9f0e8d7d85b",
      "15432d8bac1c4ea893702e898ee65148",
      "bc42a2c3f3654264a4a05f323df136e5",
      "5beb3387fe61433197c30e917c3c4c70",
      "77b7e16757fd483585b02cb350b4c26d",
      "849ccace74ed49e5b1422659be7607e5",
      "9eeeca3fe3994c56aad9debbd16fc1c1",
      "ae1508cc4b074103aaea6f762667c005",
      "9255ac7262284dc2ac4ee7ce46a255ca",
      "74a05ddbda3347e98f8d7df35df00477",
      "9994e0a66e6343fdb04c8248ff6f773f",
      "8741246c4e474371ae4d3d467dc4b1f9",
      "06a1a4443f24414ab723dc97ca79fbb7"
     ]
    },
    "id": "Hcj3lBVPgeIN",
    "outputId": "33156283-d2b8-48be-a069-ab19550dd7fc"
   },
   "outputs": [
    {
     "name": "stdout",
     "output_type": "stream",
     "text": [
      "training Epoch: 0\n",
      "\n"
     ]
    },
    {
     "data": {
      "application/vnd.jupyter.widget-view+json": {
       "model_id": "f799662460b74057b45d1ed1729d39b2",
       "version_major": 2,
       "version_minor": 0
      },
      "text/plain": [
       "HBox(children=(FloatProgress(value=0.0, max=312.5), HTML(value='')))"
      ]
     },
     "metadata": {
      "tags": []
     },
     "output_type": "display_data"
    },
    {
     "name": "stdout",
     "output_type": "stream",
     "text": [
      "\n",
      "Result Test dataset {'loss': 0.07209932250976563, 'accuracy': 0.1032}\n",
      "\n",
      "training Epoch: 1\n",
      "\n"
     ]
    },
    {
     "data": {
      "application/vnd.jupyter.widget-view+json": {
       "model_id": "4d0d38fbd9d847619452aee4876ad2b5",
       "version_major": 2,
       "version_minor": 0
      },
      "text/plain": [
       "HBox(children=(FloatProgress(value=0.0, max=1875.0), HTML(value='')))"
      ]
     },
     "metadata": {
      "tags": []
     },
     "output_type": "display_data"
    },
    {
     "name": "stdout",
     "output_type": "stream",
     "text": [
      "\n",
      "Result Training dataset {'loss': 0.0718978861093521, 'accuracy': 0.11348333333333334}\n",
      "\n"
     ]
    },
    {
     "data": {
      "application/vnd.jupyter.widget-view+json": {
       "model_id": "91083134402f4d2393fd49ae32cc5032",
       "version_major": 2,
       "version_minor": 0
      },
      "text/plain": [
       "HBox(children=(FloatProgress(value=0.0, max=312.5), HTML(value='')))"
      ]
     },
     "metadata": {
      "tags": []
     },
     "output_type": "display_data"
    },
    {
     "name": "stdout",
     "output_type": "stream",
     "text": [
      "\n",
      "Result Test dataset {'loss': 0.07195486421585083, 'accuracy': 0.1028}\n",
      "\n",
      "training Epoch: 2\n",
      "\n"
     ]
    },
    {
     "data": {
      "application/vnd.jupyter.widget-view+json": {
       "model_id": "020960f29de740109e7026f69bc4d20f",
       "version_major": 2,
       "version_minor": 0
      },
      "text/plain": [
       "HBox(children=(FloatProgress(value=0.0, max=1875.0), HTML(value='')))"
      ]
     },
     "metadata": {
      "tags": []
     },
     "output_type": "display_data"
    },
    {
     "name": "stdout",
     "output_type": "stream",
     "text": [
      "\n",
      "Result Training dataset {'loss': 0.07105710496505102, 'accuracy': 0.15255}\n",
      "\n"
     ]
    },
    {
     "data": {
      "application/vnd.jupyter.widget-view+json": {
       "model_id": "8e2d702246d64e41a7970585f9b30d64",
       "version_major": 2,
       "version_minor": 0
      },
      "text/plain": [
       "HBox(children=(FloatProgress(value=0.0, max=312.5), HTML(value='')))"
      ]
     },
     "metadata": {
      "tags": []
     },
     "output_type": "display_data"
    },
    {
     "name": "stdout",
     "output_type": "stream",
     "text": [
      "\n",
      "Result Test dataset {'loss': 0.06867849586009979, 'accuracy': 0.2789}\n",
      "\n",
      "training Epoch: 3\n",
      "\n"
     ]
    },
    {
     "data": {
      "application/vnd.jupyter.widget-view+json": {
       "model_id": "410037aaa59a41d48840255c71c75acf",
       "version_major": 2,
       "version_minor": 0
      },
      "text/plain": [
       "HBox(children=(FloatProgress(value=0.0, max=1875.0), HTML(value='')))"
      ]
     },
     "metadata": {
      "tags": []
     },
     "output_type": "display_data"
    },
    {
     "name": "stdout",
     "output_type": "stream",
     "text": [
      "\n",
      "Result Training dataset {'loss': 0.06556911678512892, 'accuracy': 0.3756}\n",
      "\n"
     ]
    },
    {
     "data": {
      "application/vnd.jupyter.widget-view+json": {
       "model_id": "0cf813b94a2e44739fea48e1acfeb648",
       "version_major": 2,
       "version_minor": 0
      },
      "text/plain": [
       "HBox(children=(FloatProgress(value=0.0, max=312.5), HTML(value='')))"
      ]
     },
     "metadata": {
      "tags": []
     },
     "output_type": "display_data"
    },
    {
     "name": "stdout",
     "output_type": "stream",
     "text": [
      "\n",
      "Result Test dataset {'loss': 0.063450652384758, 'accuracy': 0.4426}\n",
      "\n",
      "training Epoch: 4\n",
      "\n"
     ]
    },
    {
     "data": {
      "application/vnd.jupyter.widget-view+json": {
       "model_id": "f7204aead90a433a92bd2271863daf3b",
       "version_major": 2,
       "version_minor": 0
      },
      "text/plain": [
       "HBox(children=(FloatProgress(value=0.0, max=1875.0), HTML(value='')))"
      ]
     },
     "metadata": {
      "tags": []
     },
     "output_type": "display_data"
    },
    {
     "name": "stdout",
     "output_type": "stream",
     "text": [
      "\n",
      "Result Training dataset {'loss': 0.06208590263724327, 'accuracy': 0.5006833333333334}\n",
      "\n"
     ]
    },
    {
     "data": {
      "application/vnd.jupyter.widget-view+json": {
       "model_id": "80754b11bf2742f1825af114fd803bef",
       "version_major": 2,
       "version_minor": 0
      },
      "text/plain": [
       "HBox(children=(FloatProgress(value=0.0, max=312.5), HTML(value='')))"
      ]
     },
     "metadata": {
      "tags": []
     },
     "output_type": "display_data"
    },
    {
     "name": "stdout",
     "output_type": "stream",
     "text": [
      "\n",
      "Result Test dataset {'loss': 0.060528517413139346, 'accuracy': 0.5666}\n",
      "\n",
      "training Epoch: 5\n",
      "\n"
     ]
    },
    {
     "data": {
      "application/vnd.jupyter.widget-view+json": {
       "model_id": "849ccace74ed49e5b1422659be7607e5",
       "version_major": 2,
       "version_minor": 0
      },
      "text/plain": [
       "HBox(children=(FloatProgress(value=0.0, max=1875.0), HTML(value='')))"
      ]
     },
     "metadata": {
      "tags": []
     },
     "output_type": "display_data"
    },
    {
     "name": "stderr",
     "output_type": "stream",
     "text": [
      "Exception in thread Thread-43:\n",
      "Traceback (most recent call last):\n",
      "  File \"/usr/lib/python3.6/threading.py\", line 916, in _bootstrap_inner\n",
      "    self.run()\n",
      "  File \"/usr/lib/python3.6/threading.py\", line 864, in run\n",
      "    self._target(*self._args, **self._kwargs)\n",
      "  File \"/usr/local/lib/python3.6/dist-packages/torch/utils/data/_utils/pin_memory.py\", line 25, in _pin_memory_loop\n",
      "    r = in_queue.get(timeout=MP_STATUS_CHECK_INTERVAL)\n",
      "  File \"/usr/lib/python3.6/multiprocessing/queues.py\", line 113, in get\n",
      "    return _ForkingPickler.loads(res)\n",
      "  File \"/usr/local/lib/python3.6/dist-packages/torch/multiprocessing/reductions.py\", line 282, in rebuild_storage_fd\n",
      "    fd = df.detach()\n",
      "  File \"/usr/lib/python3.6/multiprocessing/resource_sharer.py\", line 57, in detach\n",
      "    with _resource_sharer.get_connection(self._id) as conn:\n",
      "  File \"/usr/lib/python3.6/multiprocessing/resource_sharer.py\", line 87, in get_connection\n",
      "    c = Client(address, authkey=process.current_process().authkey)\n",
      "  File \"/usr/lib/python3.6/multiprocessing/connection.py\", line 487, in Client\n",
      "    c = SocketClient(address)\n",
      "  File \"/usr/lib/python3.6/multiprocessing/connection.py\", line 614, in SocketClient\n",
      "    s.connect(address)\n",
      "FileNotFoundError: [Errno 2] No such file or directory\n",
      "\n"
     ]
    },
    {
     "ename": "KeyboardInterrupt",
     "evalue": "ignored",
     "output_type": "error",
     "traceback": [
      "\u001b[0;31m---------------------------------------------------------------------------\u001b[0m",
      "\u001b[0;31mKeyboardInterrupt\u001b[0m                         Traceback (most recent call last)",
      "\u001b[0;32m<ipython-input-45-10dd5f0492dd>\u001b[0m in \u001b[0;36m<module>\u001b[0;34m()\u001b[0m\n\u001b[1;32m     20\u001b[0m       \u001b[0mprint\u001b[0m\u001b[0;34m(\u001b[0m\u001b[0;34mf\"training Epoch: {epoch}\"\u001b[0m\u001b[0;34m)\u001b[0m\u001b[0;34m\u001b[0m\u001b[0;34m\u001b[0m\u001b[0m\n\u001b[1;32m     21\u001b[0m       \u001b[0;32mif\u001b[0m \u001b[0mepoch\u001b[0m \u001b[0;34m>\u001b[0m \u001b[0;36m0\u001b[0m\u001b[0;34m:\u001b[0m\u001b[0;34m\u001b[0m\u001b[0;34m\u001b[0m\u001b[0m\n\u001b[0;32m---> 22\u001b[0;31m         \u001b[0mtrain_result\u001b[0m \u001b[0;34m=\u001b[0m \u001b[0mtrain_one_epoch\u001b[0m\u001b[0;34m(\u001b[0m\u001b[0mmodel\u001b[0m\u001b[0;34m,\u001b[0m \u001b[0mdevice\u001b[0m\u001b[0;34m,\u001b[0m \u001b[0mmnist_train\u001b[0m\u001b[0;34m,\u001b[0m \u001b[0moptimizer\u001b[0m\u001b[0;34m)\u001b[0m\u001b[0;34m\u001b[0m\u001b[0;34m\u001b[0m\u001b[0m\n\u001b[0m\u001b[1;32m     23\u001b[0m         \u001b[0mprint\u001b[0m\u001b[0;34m(\u001b[0m\u001b[0;34mf\"Result Training dataset {train_result}\"\u001b[0m\u001b[0;34m)\u001b[0m\u001b[0;34m\u001b[0m\u001b[0;34m\u001b[0m\u001b[0m\n\u001b[1;32m     24\u001b[0m \u001b[0;34m\u001b[0m\u001b[0m\n",
      "\u001b[0;32m<ipython-input-44-e64fb3c1f16d>\u001b[0m in \u001b[0;36mtrain_one_epoch\u001b[0;34m(model, device, data_loader, optimizer)\u001b[0m\n\u001b[1;32m     26\u001b[0m         \u001b[0mdata\u001b[0m\u001b[0;34m,\u001b[0m \u001b[0mtarget\u001b[0m \u001b[0;34m=\u001b[0m \u001b[0mdata\u001b[0m\u001b[0;34m.\u001b[0m\u001b[0mto\u001b[0m\u001b[0;34m(\u001b[0m\u001b[0mdevice\u001b[0m\u001b[0;34m)\u001b[0m\u001b[0;34m,\u001b[0m \u001b[0mtarget\u001b[0m\u001b[0;34m.\u001b[0m\u001b[0mto\u001b[0m\u001b[0;34m(\u001b[0m\u001b[0mdevice\u001b[0m\u001b[0;34m)\u001b[0m\u001b[0;34m\u001b[0m\u001b[0;34m\u001b[0m\u001b[0m\n\u001b[1;32m     27\u001b[0m         \u001b[0moptimizer\u001b[0m\u001b[0;34m.\u001b[0m\u001b[0mzero_grad\u001b[0m\u001b[0;34m(\u001b[0m\u001b[0;34m)\u001b[0m\u001b[0;34m\u001b[0m\u001b[0;34m\u001b[0m\u001b[0m\n\u001b[0;32m---> 28\u001b[0;31m         \u001b[0moutput\u001b[0m \u001b[0;34m=\u001b[0m \u001b[0mmodel\u001b[0m\u001b[0;34m(\u001b[0m\u001b[0mdata\u001b[0m\u001b[0;34m)\u001b[0m\u001b[0;34m\u001b[0m\u001b[0;34m\u001b[0m\u001b[0m\n\u001b[0m\u001b[1;32m     29\u001b[0m \u001b[0;34m\u001b[0m\u001b[0m\n\u001b[1;32m     30\u001b[0m         \u001b[0mloss\u001b[0m \u001b[0;34m=\u001b[0m \u001b[0mF\u001b[0m\u001b[0;34m.\u001b[0m\u001b[0mcross_entropy\u001b[0m\u001b[0;34m(\u001b[0m\u001b[0moutput\u001b[0m\u001b[0;34m,\u001b[0m \u001b[0mtarget\u001b[0m\u001b[0;34m)\u001b[0m\u001b[0;34m\u001b[0m\u001b[0;34m\u001b[0m\u001b[0m\n",
      "\u001b[0;32m/usr/local/lib/python3.6/dist-packages/torch/nn/modules/module.py\u001b[0m in \u001b[0;36m_call_impl\u001b[0;34m(self, *input, **kwargs)\u001b[0m\n\u001b[1;32m    725\u001b[0m             \u001b[0mresult\u001b[0m \u001b[0;34m=\u001b[0m \u001b[0mself\u001b[0m\u001b[0;34m.\u001b[0m\u001b[0m_slow_forward\u001b[0m\u001b[0;34m(\u001b[0m\u001b[0;34m*\u001b[0m\u001b[0minput\u001b[0m\u001b[0;34m,\u001b[0m \u001b[0;34m**\u001b[0m\u001b[0mkwargs\u001b[0m\u001b[0;34m)\u001b[0m\u001b[0;34m\u001b[0m\u001b[0;34m\u001b[0m\u001b[0m\n\u001b[1;32m    726\u001b[0m         \u001b[0;32melse\u001b[0m\u001b[0;34m:\u001b[0m\u001b[0;34m\u001b[0m\u001b[0;34m\u001b[0m\u001b[0m\n\u001b[0;32m--> 727\u001b[0;31m             \u001b[0mresult\u001b[0m \u001b[0;34m=\u001b[0m \u001b[0mself\u001b[0m\u001b[0;34m.\u001b[0m\u001b[0mforward\u001b[0m\u001b[0;34m(\u001b[0m\u001b[0;34m*\u001b[0m\u001b[0minput\u001b[0m\u001b[0;34m,\u001b[0m \u001b[0;34m**\u001b[0m\u001b[0mkwargs\u001b[0m\u001b[0;34m)\u001b[0m\u001b[0;34m\u001b[0m\u001b[0;34m\u001b[0m\u001b[0m\n\u001b[0m\u001b[1;32m    728\u001b[0m         for hook in itertools.chain(\n\u001b[1;32m    729\u001b[0m                 \u001b[0m_global_forward_hooks\u001b[0m\u001b[0;34m.\u001b[0m\u001b[0mvalues\u001b[0m\u001b[0;34m(\u001b[0m\u001b[0;34m)\u001b[0m\u001b[0;34m,\u001b[0m\u001b[0;34m\u001b[0m\u001b[0;34m\u001b[0m\u001b[0m\n",
      "\u001b[0;32m<ipython-input-44-e64fb3c1f16d>\u001b[0m in \u001b[0;36mforward\u001b[0;34m(self, input)\u001b[0m\n\u001b[1;32m     12\u001b[0m     \u001b[0;32mdef\u001b[0m \u001b[0mforward\u001b[0m\u001b[0;34m(\u001b[0m\u001b[0mself\u001b[0m\u001b[0;34m,\u001b[0m \u001b[0minput\u001b[0m\u001b[0;34m)\u001b[0m\u001b[0;34m:\u001b[0m\u001b[0;34m\u001b[0m\u001b[0;34m\u001b[0m\u001b[0m\n\u001b[1;32m     13\u001b[0m         \u001b[0minput\u001b[0m \u001b[0;34m=\u001b[0m \u001b[0minput\u001b[0m\u001b[0;34m.\u001b[0m\u001b[0mreshape\u001b[0m\u001b[0;34m(\u001b[0m\u001b[0minput\u001b[0m\u001b[0;34m.\u001b[0m\u001b[0msize\u001b[0m\u001b[0;34m(\u001b[0m\u001b[0;36m0\u001b[0m\u001b[0;34m)\u001b[0m\u001b[0;34m,\u001b[0m \u001b[0;34m-\u001b[0m\u001b[0;36m1\u001b[0m\u001b[0;34m)\u001b[0m\u001b[0;34m\u001b[0m\u001b[0;34m\u001b[0m\u001b[0m\n\u001b[0;32m---> 14\u001b[0;31m         \u001b[0mx\u001b[0m \u001b[0;34m=\u001b[0m \u001b[0mself\u001b[0m\u001b[0;34m.\u001b[0m\u001b[0ml1\u001b[0m\u001b[0;34m(\u001b[0m\u001b[0minput\u001b[0m\u001b[0;34m)\u001b[0m\u001b[0;34m\u001b[0m\u001b[0;34m\u001b[0m\u001b[0m\n\u001b[0m\u001b[1;32m     15\u001b[0m         \u001b[0mx\u001b[0m \u001b[0;34m=\u001b[0m \u001b[0mself\u001b[0m\u001b[0;34m.\u001b[0m\u001b[0mactivation\u001b[0m\u001b[0;34m(\u001b[0m\u001b[0mx\u001b[0m\u001b[0;34m)\u001b[0m\u001b[0;34m\u001b[0m\u001b[0;34m\u001b[0m\u001b[0m\n\u001b[1;32m     16\u001b[0m         \u001b[0mx\u001b[0m \u001b[0;34m=\u001b[0m \u001b[0mself\u001b[0m\u001b[0;34m.\u001b[0m\u001b[0ml2\u001b[0m\u001b[0;34m(\u001b[0m\u001b[0mx\u001b[0m\u001b[0;34m)\u001b[0m\u001b[0;34m\u001b[0m\u001b[0;34m\u001b[0m\u001b[0m\n",
      "\u001b[0;32m/usr/local/lib/python3.6/dist-packages/torch/nn/modules/module.py\u001b[0m in \u001b[0;36m_call_impl\u001b[0;34m(self, *input, **kwargs)\u001b[0m\n\u001b[1;32m    725\u001b[0m             \u001b[0mresult\u001b[0m \u001b[0;34m=\u001b[0m \u001b[0mself\u001b[0m\u001b[0;34m.\u001b[0m\u001b[0m_slow_forward\u001b[0m\u001b[0;34m(\u001b[0m\u001b[0;34m*\u001b[0m\u001b[0minput\u001b[0m\u001b[0;34m,\u001b[0m \u001b[0;34m**\u001b[0m\u001b[0mkwargs\u001b[0m\u001b[0;34m)\u001b[0m\u001b[0;34m\u001b[0m\u001b[0;34m\u001b[0m\u001b[0m\n\u001b[1;32m    726\u001b[0m         \u001b[0;32melse\u001b[0m\u001b[0;34m:\u001b[0m\u001b[0;34m\u001b[0m\u001b[0;34m\u001b[0m\u001b[0m\n\u001b[0;32m--> 727\u001b[0;31m             \u001b[0mresult\u001b[0m \u001b[0;34m=\u001b[0m \u001b[0mself\u001b[0m\u001b[0;34m.\u001b[0m\u001b[0mforward\u001b[0m\u001b[0;34m(\u001b[0m\u001b[0;34m*\u001b[0m\u001b[0minput\u001b[0m\u001b[0;34m,\u001b[0m \u001b[0;34m**\u001b[0m\u001b[0mkwargs\u001b[0m\u001b[0;34m)\u001b[0m\u001b[0;34m\u001b[0m\u001b[0;34m\u001b[0m\u001b[0m\n\u001b[0m\u001b[1;32m    728\u001b[0m         for hook in itertools.chain(\n\u001b[1;32m    729\u001b[0m                 \u001b[0m_global_forward_hooks\u001b[0m\u001b[0;34m.\u001b[0m\u001b[0mvalues\u001b[0m\u001b[0;34m(\u001b[0m\u001b[0;34m)\u001b[0m\u001b[0;34m,\u001b[0m\u001b[0;34m\u001b[0m\u001b[0;34m\u001b[0m\u001b[0m\n",
      "\u001b[0;32m/usr/local/lib/python3.6/dist-packages/torch/nn/modules/linear.py\u001b[0m in \u001b[0;36mforward\u001b[0;34m(self, input)\u001b[0m\n\u001b[1;32m     91\u001b[0m \u001b[0;34m\u001b[0m\u001b[0m\n\u001b[1;32m     92\u001b[0m     \u001b[0;32mdef\u001b[0m \u001b[0mforward\u001b[0m\u001b[0;34m(\u001b[0m\u001b[0mself\u001b[0m\u001b[0;34m,\u001b[0m \u001b[0minput\u001b[0m\u001b[0;34m:\u001b[0m \u001b[0mTensor\u001b[0m\u001b[0;34m)\u001b[0m \u001b[0;34m->\u001b[0m \u001b[0mTensor\u001b[0m\u001b[0;34m:\u001b[0m\u001b[0;34m\u001b[0m\u001b[0;34m\u001b[0m\u001b[0m\n\u001b[0;32m---> 93\u001b[0;31m         \u001b[0;32mreturn\u001b[0m \u001b[0mF\u001b[0m\u001b[0;34m.\u001b[0m\u001b[0mlinear\u001b[0m\u001b[0;34m(\u001b[0m\u001b[0minput\u001b[0m\u001b[0;34m,\u001b[0m \u001b[0mself\u001b[0m\u001b[0;34m.\u001b[0m\u001b[0mweight\u001b[0m\u001b[0;34m,\u001b[0m \u001b[0mself\u001b[0m\u001b[0;34m.\u001b[0m\u001b[0mbias\u001b[0m\u001b[0;34m)\u001b[0m\u001b[0;34m\u001b[0m\u001b[0;34m\u001b[0m\u001b[0m\n\u001b[0m\u001b[1;32m     94\u001b[0m \u001b[0;34m\u001b[0m\u001b[0m\n\u001b[1;32m     95\u001b[0m     \u001b[0;32mdef\u001b[0m \u001b[0mextra_repr\u001b[0m\u001b[0;34m(\u001b[0m\u001b[0mself\u001b[0m\u001b[0;34m)\u001b[0m \u001b[0;34m->\u001b[0m \u001b[0mstr\u001b[0m\u001b[0;34m:\u001b[0m\u001b[0;34m\u001b[0m\u001b[0;34m\u001b[0m\u001b[0m\n",
      "\u001b[0;32m/usr/local/lib/python3.6/dist-packages/torch/nn/functional.py\u001b[0m in \u001b[0;36mlinear\u001b[0;34m(input, weight, bias)\u001b[0m\n\u001b[1;32m   1688\u001b[0m     \u001b[0;32mif\u001b[0m \u001b[0minput\u001b[0m\u001b[0;34m.\u001b[0m\u001b[0mdim\u001b[0m\u001b[0;34m(\u001b[0m\u001b[0;34m)\u001b[0m \u001b[0;34m==\u001b[0m \u001b[0;36m2\u001b[0m \u001b[0;32mand\u001b[0m \u001b[0mbias\u001b[0m \u001b[0;32mis\u001b[0m \u001b[0;32mnot\u001b[0m \u001b[0;32mNone\u001b[0m\u001b[0;34m:\u001b[0m\u001b[0;34m\u001b[0m\u001b[0;34m\u001b[0m\u001b[0m\n\u001b[1;32m   1689\u001b[0m         \u001b[0;31m# fused op is marginally faster\u001b[0m\u001b[0;34m\u001b[0m\u001b[0;34m\u001b[0m\u001b[0;34m\u001b[0m\u001b[0m\n\u001b[0;32m-> 1690\u001b[0;31m         \u001b[0mret\u001b[0m \u001b[0;34m=\u001b[0m \u001b[0mtorch\u001b[0m\u001b[0;34m.\u001b[0m\u001b[0maddmm\u001b[0m\u001b[0;34m(\u001b[0m\u001b[0mbias\u001b[0m\u001b[0;34m,\u001b[0m \u001b[0minput\u001b[0m\u001b[0;34m,\u001b[0m \u001b[0mweight\u001b[0m\u001b[0;34m.\u001b[0m\u001b[0mt\u001b[0m\u001b[0;34m(\u001b[0m\u001b[0;34m)\u001b[0m\u001b[0;34m)\u001b[0m\u001b[0;34m\u001b[0m\u001b[0;34m\u001b[0m\u001b[0m\n\u001b[0m\u001b[1;32m   1691\u001b[0m     \u001b[0;32melse\u001b[0m\u001b[0;34m:\u001b[0m\u001b[0;34m\u001b[0m\u001b[0;34m\u001b[0m\u001b[0m\n\u001b[1;32m   1692\u001b[0m         \u001b[0moutput\u001b[0m \u001b[0;34m=\u001b[0m \u001b[0minput\u001b[0m\u001b[0;34m.\u001b[0m\u001b[0mmatmul\u001b[0m\u001b[0;34m(\u001b[0m\u001b[0mweight\u001b[0m\u001b[0;34m.\u001b[0m\u001b[0mt\u001b[0m\u001b[0;34m(\u001b[0m\u001b[0;34m)\u001b[0m\u001b[0;34m)\u001b[0m\u001b[0;34m\u001b[0m\u001b[0;34m\u001b[0m\u001b[0m\n",
      "\u001b[0;31mKeyboardInterrupt\u001b[0m: "
     ]
    }
   ],
   "source": [
    "\n",
    "if __name__ == \"__main__\":\n",
    "    \n",
    "    # Network Hyperparameters \n",
    "    minibatch_size = 28\n",
    "    nepoch = 10\n",
    "    learning_rate = 0.1\n",
    "    momentum = 0 \n",
    "    model = FFNNModel()\n",
    "    model.to(device)\n",
    "    optimizer = optim.SGD(model.parameters(), lr=learning_rate, momentum=momentum)\n",
    "\n",
    "    # Retrieve the data with the pytorch dataloader \n",
    "    mnist_train = MNIST(os.getcwd(), train=True, download=True, transform=transforms.ToTensor())\n",
    "    mnist_train = DataLoader(mnist_train, batch_size=32, num_workers=4, pin_memory=True)\n",
    "    mnist_val = MNIST(os.getcwd(), train=False, download=True, transform=transforms.ToTensor())\n",
    "    mnist_val = DataLoader(mnist_val, batch_size=32, num_workers=4,  pin_memory=True)\n",
    "\n",
    "    # Train for an number of epoch \n",
    "    for epoch in range(nepoch):\n",
    "      print(f\"training Epoch: {epoch}\")\n",
    "      if epoch > 0:\n",
    "        train_result = train_one_epoch(model, device, mnist_train, optimizer)\n",
    "        print(f\"Result Training dataset {train_result}\")\n",
    "\n",
    "      eval_result = evaluation(model, device, mnist_val)\n",
    "      print(f\"Result Test dataset {eval_result}\")\n",
    "\n"
   ]
  },
  {
   "cell_type": "markdown",
   "metadata": {
    "id": "rR0RUMI0WABc"
   },
   "source": [
    "# Part 1: What is a convolution ?\n",
    "\n",
    "\n"
   ]
  },
  {
   "cell_type": "markdown",
   "metadata": {
    "id": "Q06D0V9KnzJv"
   },
   "source": [
    "In this section you will implement 2D convolution operation using:\n",
    "\n",
    "Starting with a simple example and manual computation like in Lecture 2\n",
    "\n",
    "1) Introduction: manual computation\n",
    "\n",
    "- you have as input an image of 5x5 pixels\n",
    "\n",
    "$I = \\begin{bmatrix}I_{1, 1} & ... & I_{1, 5} \\\\ \\vdots & \\ddots & \\vdots \\\\ I_{5, 1}& ... & I_{5,5}\\end{bmatrix}$\n",
    "\n",
    "Your task is to compute the result of a convolution operation between this image and a 3x3 kernel\n",
    "\n",
    "$ K = \\begin{bmatrix}a & b & c \\\\d & e & f \\\\ g& h& i\\end{bmatrix}$\n",
    "\n",
    "We are considering padding with 0 and using the SAME convolution. \n",
    "Meaning that arround the I matrix consider there is the value 0.\n",
    "\n",
    "Tips: the result of the convolution is a 5x5 matrix"
   ]
  },
  {
   "cell_type": "code",
   "execution_count": 37,
   "metadata": {
    "id": "Sfvn5c9yWABe"
   },
   "outputs": [
    {
     "name": "stdout",
     "output_type": "stream",
     "text": [
      "I =\n",
      "\n",
      "[[252  49 113  11 137]\n",
      " [ 18 237 163 119  53]\n",
      " [ 90  89 178  75 247]\n",
      " [209 216  48 135 232]\n",
      " [229  53 107 106 222]]\n",
      "\n"
     ]
    }
   ],
   "source": [
    "I = np.array([[252,  49, 113,  11, 137],\n",
    "                [ 18, 237, 163, 119,  53],\n",
    "                [ 90,  89, 178,  75, 247],\n",
    "                [209, 216,  48, 135, 232],\n",
    "                [229, 53, 107, 106, 222]])\n",
    "print(f\"I =\")\n",
    "print(I)"
   ]
  },
  {
   "cell_type": "code",
   "execution_count": 32,
   "metadata": {
    "id": "bDhH5cxzWABl"
   },
   "outputs": [
    {
     "name": "stdout",
     "output_type": "stream",
     "text": [
      "K_0 =\n",
      "\n",
      "[[0 1 0]\n",
      " [0 0 0]\n",
      " [0 0 0]]\n",
      "\n",
      "K_1 =\n",
      "\n",
      "[[ 1  1  1]\n",
      " [ 0  5  0]\n",
      " [-1 -1 -1]]\n",
      "\n"
     ]
    }
   ],
   "source": [
    "K_0 = np.array([[0, 1, 0], [0, 0, 0], [0, 0, 0]])\n",
    "print(f\"K_0 =\")\n",
    "print(K_0)\n",
    "\n",
    "K_1 = np.array([[1, 1, 1], [0, 5, 0], [-1, -1, -1]])\n",
    "print(f\"K_1 =\")\n",
    "print(K_1)\n"
   ]
  },
  {
   "cell_type": "markdown",
   "metadata": {
    "id": "cqaSC3rTWABq"
   },
   "source": [
    "What is the result of convolution of $ I_0 \\ast K_0 $\n"
   ]
  },
  {
   "cell_type": "code",
   "execution_count": null,
   "metadata": {
    "id": "WidbhmkRWABr"
   },
   "outputs": [],
   "source": [
    "# put your answer here\n",
    "R_0 = np.array([0,0])"
   ]
  },
  {
   "cell_type": "markdown",
   "metadata": {
    "id": "Wfi2u2yVWABw"
   },
   "source": [
    "What is the result of convolution of $ I_0 \\ast K_1 $\n"
   ]
  },
  {
   "cell_type": "code",
   "execution_count": null,
   "metadata": {
    "id": "4XKt_u-wWABx"
   },
   "outputs": [],
   "source": [
    "# put your answer here\n",
    "R_1 = np.array([0,0])"
   ]
  },
  {
   "cell_type": "markdown",
   "metadata": {
    "id": "Hu-2xPRZWAB0"
   },
   "source": [
    "## 2) Computation using __numpy__\n",
    "\n",
    "Now using the numpy implement the convolution operation.\n"
   ]
  },
  {
   "cell_type": "code",
   "execution_count": null,
   "metadata": {
    "id": "gP7fnMBHetJg",
    "lines_to_next_cell": 0
   },
   "outputs": [],
   "source": [
    "def convolution_forward_numpy(image, kernel):\n",
    "    # YOUR CODE HERE \n",
    "    NotImplemented"
   ]
  },
  {
   "cell_type": "markdown",
   "metadata": {
    "id": "5OGXKtyVetJm"
   },
   "source": [
    "Test your implementation on the two previous example and compare the results to the result manually computed."
   ]
  },
  {
   "cell_type": "code",
   "execution_count": null,
   "metadata": {
    "id": "iRubH1y6WAB1",
    "lines_to_next_cell": 2
   },
   "outputs": [],
   "source": [
    "\n",
    "# assert convolution_forward_numpy(I, K_0) == R_0\n",
    "# assert convolution_forward_numpy(I, K_1) == R_1"
   ]
  },
  {
   "cell_type": "markdown",
   "metadata": {
    "id": "9Lmj8tf3WACI"
   },
   "source": [
    "Display the result image of the convolution"
   ]
  },
  {
   "cell_type": "code",
   "execution_count": null,
   "metadata": {
    "id": "eoEYVPzFWACR",
    "lines_to_next_cell": 2
   },
   "outputs": [],
   "source": [
    "# Load image from url, you can use an other image if you want\n",
    "image_url = \"https://upload.wikimedia.org/wikipedia/commons/4/4f/ECE_Paris_Lyon.jpg\"\n",
    "image = imageio.imread(image_url)\n",
    "\n",
    "\n",
    "# simple function to display image\n",
    "def display_image(img):\n",
    "    plt.imshow(img)\n",
    "\n",
    "# display the image\n",
    "display_image(image)\n",
    "\n",
    "\n",
    "# Do the convolution operation and display the resulting image\n",
    "\n",
    "# YOUR CODE HERE\n",
    "# output_image = convolution_forward_numpy(image, kernel) \n",
    "# display_image(output_image)"
   ]
  },
  {
   "cell_type": "markdown",
   "metadata": {
    "id": "v7z9q-rtWACQ"
   },
   "source": [
    "## 3) Computation using __pytorch__\n",
    "\n",
    "Now let's use pytorch convolution layer to do the forward pass. Use the documentation available at: https://pytorch.org/docs/stable/nn.html"
   ]
  },
  {
   "cell_type": "code",
   "execution_count": null,
   "metadata": {
    "id": "2ZboYqQCWACW",
    "lines_to_next_cell": 2
   },
   "outputs": [],
   "source": [
    "def convolution_forward_torch(image, kernel):\n",
    "    # YOUR CODE HERE \n",
    "    NotImplemented"
   ]
  },
  {
   "cell_type": "markdown",
   "metadata": {
    "id": "x9XtW00JWACZ"
   },
   "source": [
    "In pytorch you can also access other layer like convolution2D, pooling layers, for example in the following cell use the __torch.nn.MaxPool2d__ to redduce the image size."
   ]
  },
  {
   "cell_type": "code",
   "execution_count": null,
   "metadata": {
    "id": "uEpb5XVyWACf",
    "lines_to_next_cell": 2
   },
   "outputs": [],
   "source": [
    "\n",
    "\n"
   ]
  },
  {
   "cell_type": "markdown",
   "metadata": {
    "id": "b5aVluRsoVMC"
   },
   "source": [
    "# Part 2: Using convolution neural network to recognize digits"
   ]
  },
  {
   "cell_type": "markdown",
   "metadata": {
    "id": "7YkGWHXIWACi"
   },
   "source": [
    "In this section you will implement 2D convolution neural network and train it on fashion mnist dataset\n",
    "\n",
    "https://github.com/zalandoresearch/fashion-mnist\n",
    "\n",
    "\n",
    "![Image of fashion mnist](https://raw.githubusercontent.com/zalandoresearch/fashion-mnist/master/doc/img/fashion-mnist-sprite.png)\n",
    "\n",
    "##  First let's look at the data."
   ]
  },
  {
   "cell_type": "code",
   "execution_count": 5,
   "metadata": {
    "id": "BfBxOSnDIwle"
   },
   "outputs": [
    {
     "name": "stdout",
     "output_type": "stream",
     "text": [
      "Downloading http://fashion-mnist.s3-website.eu-central-1.amazonaws.com/train-images-idx3-ubyte.gz to /home/lgeorge/git/perso/teaching/ECE/tp2_tryit_laurent/tp2-deeplearningonimages-alfredgeo/FashionMNIST/raw/train-images-idx3-ubyte.gz\n"
     ]
    },
    {
     "data": {
      "application/vnd.jupyter.widget-view+json": {
       "model_id": "502c6c018ded4d1c96ff834b434b2d9c",
       "version_major": 2,
       "version_minor": 0
      },
      "text/plain": [
       "HBox(children=(HTML(value=''), FloatProgress(value=1.0, bar_style='info', layout=Layout(width='20px'), max=1.0…"
      ]
     },
     "metadata": {},
     "output_type": "display_data"
    },
    {
     "name": "stdout",
     "output_type": "stream",
     "text": [
      "Extracting /home/lgeorge/git/perso/teaching/ECE/tp2_tryit_laurent/tp2-deeplearningonimages-alfredgeo/FashionMNIST/raw/train-images-idx3-ubyte.gz to /home/lgeorge/git/perso/teaching/ECE/tp2_tryit_laurent/tp2-deeplearningonimages-alfredgeo/FashionMNIST/raw\n",
      "Downloading http://fashion-mnist.s3-website.eu-central-1.amazonaws.com/train-labels-idx1-ubyte.gz to /home/lgeorge/git/perso/teaching/ECE/tp2_tryit_laurent/tp2-deeplearningonimages-alfredgeo/FashionMNIST/raw/train-labels-idx1-ubyte.gz\n"
     ]
    },
    {
     "data": {
      "application/vnd.jupyter.widget-view+json": {
       "model_id": "6cd603865b1a4bdcbc143ecd8afe5d28",
       "version_major": 2,
       "version_minor": 0
      },
      "text/plain": [
       "HBox(children=(HTML(value=''), FloatProgress(value=1.0, bar_style='info', layout=Layout(width='20px'), max=1.0…"
      ]
     },
     "metadata": {},
     "output_type": "display_data"
    },
    {
     "name": "stdout",
     "output_type": "stream",
     "text": [
      "Extracting /home/lgeorge/git/perso/teaching/ECE/tp2_tryit_laurent/tp2-deeplearningonimages-alfredgeo/FashionMNIST/raw/train-labels-idx1-ubyte.gz to /home/lgeorge/git/perso/teaching/ECE/tp2_tryit_laurent/tp2-deeplearningonimages-alfredgeo/FashionMNIST/raw\n",
      "Downloading http://fashion-mnist.s3-website.eu-central-1.amazonaws.com/t10k-images-idx3-ubyte.gz to /home/lgeorge/git/perso/teaching/ECE/tp2_tryit_laurent/tp2-deeplearningonimages-alfredgeo/FashionMNIST/raw/t10k-images-idx3-ubyte.gz\n",
      "\n"
     ]
    },
    {
     "data": {
      "application/vnd.jupyter.widget-view+json": {
       "model_id": "417c9f5a57ca4ecbbaa9200a4e27d2f2",
       "version_major": 2,
       "version_minor": 0
      },
      "text/plain": [
       "HBox(children=(HTML(value=''), FloatProgress(value=1.0, bar_style='info', layout=Layout(width='20px'), max=1.0…"
      ]
     },
     "metadata": {},
     "output_type": "display_data"
    },
    {
     "name": "stdout",
     "output_type": "stream",
     "text": [
      "Extracting /home/lgeorge/git/perso/teaching/ECE/tp2_tryit_laurent/tp2-deeplearningonimages-alfredgeo/FashionMNIST/raw/t10k-images-idx3-ubyte.gz to /home/lgeorge/git/perso/teaching/ECE/tp2_tryit_laurent/tp2-deeplearningonimages-alfredgeo/FashionMNIST/raw\n",
      "Downloading http://fashion-mnist.s3-website.eu-central-1.amazonaws.com/t10k-labels-idx1-ubyte.gz to /home/lgeorge/git/perso/teaching/ECE/tp2_tryit_laurent/tp2-deeplearningonimages-alfredgeo/FashionMNIST/raw/t10k-labels-idx1-ubyte.gz\n"
     ]
    },
    {
     "data": {
      "application/vnd.jupyter.widget-view+json": {
       "model_id": "f566752eec234a48867934e36cb20114",
       "version_major": 2,
       "version_minor": 0
      },
      "text/plain": [
       "HBox(children=(HTML(value=''), FloatProgress(value=1.0, bar_style='info', layout=Layout(width='20px'), max=1.0…"
      ]
     },
     "metadata": {},
     "output_type": "display_data"
    },
    {
     "name": "stdout",
     "output_type": "stream",
     "text": [
      "Extracting /home/lgeorge/git/perso/teaching/ECE/tp2_tryit_laurent/tp2-deeplearningonimages-alfredgeo/FashionMNIST/raw/t10k-labels-idx1-ubyte.gz to /home/lgeorge/git/perso/teaching/ECE/tp2_tryit_laurent/tp2-deeplearningonimages-alfredgeo/FashionMNIST/raw\n",
      "Processing...\n",
      "Done!\n"
     ]
    },
    {
     "name": "stderr",
     "output_type": "stream",
     "text": [
      "/home/lgeorge/git/perso/teaching/ECE/tp2_tryit_laurent/tp2-deeplearningonimages-alfredgeo/.venv/lib/python3.6/site-packages/torchvision/datasets/mnist.py:480: UserWarning: The given NumPy array is not writeable, and PyTorch does not support non-writeable tensors. This means you can write to the underlying (supposedly non-writeable) NumPy array using the tensor. You may want to copy the array to protect its data or make it writeable before converting it to a tensor. This type of warning will be suppressed for the rest of this program. (Triggered internally at  /pytorch/torch/csrc/utils/tensor_numpy.cpp:141.)\n",
      "  return torch.from_numpy(parsed.astype(m[2], copy=False)).view(*s)\n"
     ]
    }
   ],
   "source": [
    "if __name__ == \"__main__\" :\n",
    "\n",
    "  fmnist_train = FashionMNIST(os.getcwd(), train=True, download=True, transform=transforms.ToTensor())\n",
    "  fmnist_train = DataLoader(fmnist_train, batch_size=32, num_workers=4, pin_memory=True)\n",
    "  fmnist_val = FashionMNIST(os.getcwd(), train=False, download=True, transform=transforms.ToTensor())\n",
    "  fmnist_val = DataLoader(fmnist_val, batch_size=32, num_workers=4,  pin_memory=True)"
   ]
  },
  {
   "cell_type": "markdown",
   "metadata": {
    "id": "wWhl5or3WACl"
   },
   "source": [
    "Display the 10 image from train set and 10 images from validation set, print their ground truth"
   ]
  },
  {
   "cell_type": "code",
   "execution_count": null,
   "metadata": {},
   "outputs": [],
   "source": [
    "def display_10_images(dataset):\n",
    "    # YOUR CODE HERE \n",
    "    NotImplemented"
   ]
  },
  {
   "cell_type": "markdown",
   "metadata": {
    "id": "HNl2tW4OWACm"
   },
   "source": [
    "What is the shape of each images\n",
    "How many images do we have\n",
    "What are the different classes"
   ]
  },
  {
   "cell_type": "code",
   "execution_count": null,
   "metadata": {
    "id": "4Ex3UohlH0o6"
   },
   "outputs": [],
   "source": [
    "def fashion_mnist_dataset_answer():\n",
    "    shape = None  # replace None with the value you found\n",
    "    number_of_images_in_train_set = None\n",
    "    number_of_images_in_test_set = None\n",
    "    number_of_classes = None\n",
    "    return {'shape': shape, 'nb_in_train_set': number_of_images_in_train_set, 'nb_in_test_set': number_of_images_in_test_set, 'number_of_classes': number_of_classes}"
   ]
  },
  {
   "cell_type": "code",
   "execution_count": null,
   "metadata": {
    "id": "TCt97SpbI7pO"
   },
   "outputs": [],
   "source": [
    "# Plot an image and the target  "
   ]
  },
  {
   "cell_type": "markdown",
   "metadata": {
    "id": "gHK65RunWADA"
   },
   "source": [
    "## Create a convolutional neural network\n",
    "\n",
    "Now it's your turn to create a convolutional neural network and to train your model on the fashion mnist dataset.\n",
    "\n",
    "Classical machine learning approach manage to get a 89% accuracy on fashion mnist, your objective is to use deep learning (and convolution neural network) to get more than 90%\n",
    "\n",
    "You can first start with this simple convolution network and improve it by adding/modifying the layers used:\n",
    "\n",
    "```\n",
    "convolutional layer 3x3\n",
    "convolutional layer 3x3\n",
    "max-pooling\n",
    "convolutional layer 3x3\n",
    "convolutional layer 3x3\n",
    "max-pooling\n",
    "flatten\n",
    "fully-connected layer (dense layer)\n",
    "fully-connected layer (dense layer)\n",
    "fully-connected layer (dense layer)\n",
    "Softmax\n",
    "```\n"
   ]
  },
  {
   "cell_type": "code",
   "execution_count": null,
   "metadata": {
    "id": "1W7t-is0WADA",
    "lines_to_next_cell": 2
   },
   "outputs": [],
   "source": [
    "class CNNModel(nn.Module):\n",
    "    def __init__(self, classes=10):\n",
    "        super().__init__()\n",
    "        # YOUR CODE HERE \n",
    "        self.conv1 = NotImplemented\n",
    "\n",
    "    def forward(self, input):\n",
    "        x = self.conv1(input)\n",
    "        # YOUR CODE HERE \n",
    "        y = NotImplemented\n",
    "        return y\n",
    "\n",
    "def train_one_epoch(model, device, data_loader, optimizer):\n",
    "    train_loss = 0\n",
    "    correct = 0\n",
    "    for num, (data, target) in tq.tqdm(enumerate(data_loader), total=len(data_loader.dataset)/data_loader.batch_size):\n",
    "        data, target = data.to(device), target.to(device)\n",
    "        optimizer.zero_grad()\n",
    "        output = model(data)\n",
    "\n",
    "        # YOUR CODE HERE \n",
    "        loss = NotImplemented\n",
    "        loss.backward()\n",
    "        train_loss += loss.item()\n",
    "        optimizer.step()\n",
    "\n",
    "        prediction = output.argmax(dim=1)\n",
    "        correct += torch.sum(prediction.eq(target)).item()\n",
    "\n",
    "    result = {'loss': train_loss / len(data_loader.dataset),\n",
    "              'accuracy': correct / len(data_loader.dataset)\n",
    "              }\n",
    "    return result   \n",
    " \n",
    "def evaluation(model, device, data_loader):\n",
    "    eval_loss = 0\n",
    "    correct = 0\n",
    "\n",
    "    for num, (data, target) in tq.tqdm(enumerate(data_loader), total=len(data_loader.dataset)/data_loader.batch_size):\n",
    "        data, target = data.to(device), target.to(device)\n",
    "        output = model(data)\n",
    "        # YOUR CODE HERE \n",
    "        eval_loss = NotImplemented\n",
    "        prediction = output.argmax(dim=1)\n",
    "        correct += torch.sum(prediction.eq(target)).item()\n",
    "    result = {'loss': eval_loss / len(data_loader.dataset),\n",
    "              'accuracy': correct / len(data_loader.dataset)\n",
    "              }\n",
    "    return result\n",
    "    \n",
    "if __name__ == \"__main__\":\n",
    "    \n",
    "    # Network Hyperparameters \n",
    "    # YOUR CODE HERE \n",
    "    minibatch_size = NotImplemented\n",
    "    nepoch = NotImplemented\n",
    "    learning_rate = NotImplemented\n",
    "    momentum = NotImplemented\n",
    "\n",
    "\n",
    "    model = FFNNModel()\n",
    "    model.to(device)\n",
    "\n",
    "    # YOUR CODE HERE \n",
    "    optimizer = NotImplemented\n",
    "\n",
    "    # Train for an number of epoch \n",
    "    for epoch in range(nepoch):\n",
    "      print(f\"training Epoch: {epoch}\")\n",
    "      if epoch > 0:\n",
    "        train_result = train_one_epoch(model, device, mnist_train, optimizer)\n",
    "        print(f\"Result Training dataset {train_result}\")\n",
    "\n",
    "      eval_result = evaluation(model, device, mnist_val)\n",
    "      print(f\"Result Test dataset {eval_result}\")"
   ]
  },
  {
   "cell_type": "markdown",
   "metadata": {},
   "source": [
    "## Open Analysis\n",
    "Same as TP 1 please write a short description of your experiment"
   ]
  },
  {
   "cell_type": "markdown",
   "metadata": {},
   "source": [
    "# BONUS \n",
    "\n",
    "Use some already trained CNN to segment YOUR image. \n",
    "\n",
    "In the cell below your can load a image to the notebook and use the given network to have the segmentation mask and plot it. "
   ]
  },
  {
   "cell_type": "code",
   "execution_count": 8,
   "metadata": {},
   "outputs": [
    {
     "name": "stderr",
     "output_type": "stream",
     "text": [
      "Using cache found in /home/lgeorge/.cache/torch/hub/pytorch_vision_v0.6.0\n"
     ]
    },
    {
     "ename": "FileNotFoundError",
     "evalue": "[Errno 2] No such file or directory: 'out.txt'",
     "output_type": "error",
     "traceback": [
      "\u001b[0;31m---------------------------------------------------------------------------\u001b[0m",
      "\u001b[0;31mFileNotFoundError\u001b[0m                         Traceback (most recent call last)",
      "\u001b[0;32m<ipython-input-8-cf3ab8f0d61d>\u001b[0m in \u001b[0;36m<module>\u001b[0;34m\u001b[0m\n\u001b[1;32m     12\u001b[0m     \u001b[0;32mfrom\u001b[0m \u001b[0mtorchvision\u001b[0m \u001b[0;32mimport\u001b[0m \u001b[0mtransforms\u001b[0m\u001b[0;34m\u001b[0m\u001b[0;34m\u001b[0m\u001b[0m\n\u001b[1;32m     13\u001b[0m \u001b[0;34m\u001b[0m\u001b[0m\n\u001b[0;32m---> 14\u001b[0;31m     \u001b[0minput_image\u001b[0m \u001b[0;34m=\u001b[0m \u001b[0mImage\u001b[0m\u001b[0;34m.\u001b[0m\u001b[0mopen\u001b[0m\u001b[0;34m(\u001b[0m\u001b[0mfilename\u001b[0m\u001b[0;34m)\u001b[0m\u001b[0;34m\u001b[0m\u001b[0;34m\u001b[0m\u001b[0m\n\u001b[0m\u001b[1;32m     15\u001b[0m     preprocess = transforms.Compose([\n\u001b[1;32m     16\u001b[0m         \u001b[0mtransforms\u001b[0m\u001b[0;34m.\u001b[0m\u001b[0mToTensor\u001b[0m\u001b[0;34m(\u001b[0m\u001b[0;34m)\u001b[0m\u001b[0;34m,\u001b[0m\u001b[0;34m\u001b[0m\u001b[0;34m\u001b[0m\u001b[0m\n",
      "\u001b[0;32m~/git/perso/teaching/ECE/tp2_tryit_laurent/tp2-deeplearningonimages-alfredgeo/.venv/lib/python3.6/site-packages/PIL/Image.py\u001b[0m in \u001b[0;36mopen\u001b[0;34m(fp, mode, formats)\u001b[0m\n\u001b[1;32m   2889\u001b[0m \u001b[0;34m\u001b[0m\u001b[0m\n\u001b[1;32m   2890\u001b[0m     \u001b[0;32mif\u001b[0m \u001b[0mfilename\u001b[0m\u001b[0;34m:\u001b[0m\u001b[0;34m\u001b[0m\u001b[0;34m\u001b[0m\u001b[0m\n\u001b[0;32m-> 2891\u001b[0;31m         \u001b[0mfp\u001b[0m \u001b[0;34m=\u001b[0m \u001b[0mbuiltins\u001b[0m\u001b[0;34m.\u001b[0m\u001b[0mopen\u001b[0m\u001b[0;34m(\u001b[0m\u001b[0mfilename\u001b[0m\u001b[0;34m,\u001b[0m \u001b[0;34m\"rb\"\u001b[0m\u001b[0;34m)\u001b[0m\u001b[0;34m\u001b[0m\u001b[0;34m\u001b[0m\u001b[0m\n\u001b[0m\u001b[1;32m   2892\u001b[0m         \u001b[0mexclusive_fp\u001b[0m \u001b[0;34m=\u001b[0m \u001b[0;32mTrue\u001b[0m\u001b[0;34m\u001b[0m\u001b[0;34m\u001b[0m\u001b[0m\n\u001b[1;32m   2893\u001b[0m \u001b[0;34m\u001b[0m\u001b[0m\n",
      "\u001b[0;31mFileNotFoundError\u001b[0m: [Errno 2] No such file or directory: 'out.txt'"
     ]
    }
   ],
   "source": [
    "if __name__ == \"__main__\" :\n",
    "    \n",
    "    # TODO HERE: Upload an image to the notebook in the navigation bar on the left\n",
    "    # `File` `Load File`and load an image to the notebook. \n",
    "    \n",
    "    filename = \"out.txt\" \n",
    "    # Loading a already trained network in pytorch \n",
    "    model = torch.hub.load('pytorch/vision:v0.6.0', 'deeplabv3_resnet101', pretrained=True)\n",
    "    model.eval()\n",
    "\n",
    "    from PIL import Image\n",
    "    from torchvision import transforms\n",
    "\n",
    "    input_image = Image.open(filename)\n",
    "    preprocess = transforms.Compose([\n",
    "        transforms.ToTensor(),\n",
    "        transforms.Normalize(mean=[0.485, 0.456, 0.406], std=[0.229, 0.224, 0.225]),\n",
    "    ])\n",
    "\n",
    "    input_tensor = preprocess(input_image)\n",
    "    input_batch = input_tensor.unsqueeze(0) # create a mini-batch as expected by the model\n",
    "\n",
    "    # move the input and model to GPU for speed if available\n",
    "    if torch.cuda.is_available():\n",
    "        input_batch = input_batch.to('cuda')\n",
    "        model.to('cuda')\n",
    "\n",
    "    with torch.no_grad():\n",
    "        output = model(input_batch)['out'][0]\n",
    "    output_predictions = output.argmax(0)"
   ]
  },
  {
   "cell_type": "code",
   "execution_count": null,
   "metadata": {},
   "outputs": [],
   "source": []
  }
 ],
 "metadata": {
  "accelerator": "GPU",
  "colab": {
   "collapsed_sections": [
    "R2JALA0rnGE1",
    "q7Ucg7xRQDwn"
   ],
   "include_colab_link": true,
   "name": "convolution.ipynb",
   "provenance": [],
   "toc_visible": true
  },
  "jupytext": {
   "cell_metadata_filter": "-all",
   "main_language": "python",
   "notebook_metadata_filter": "-all"
  },
  "kernelspec": {
   "display_name": "Python 3",
   "language": "python",
   "name": "python3"
  },
  "language_info": {
   "codemirror_mode": {
    "name": "ipython",
    "version": 3
   },
   "file_extension": ".py",
   "mimetype": "text/x-python",
   "name": "python",
   "nbconvert_exporter": "python",
   "pygments_lexer": "ipython3",
   "version": "3.6.9"
  },
  "widgets": {
   "application/vnd.jupyter.widget-state+json": {
    "009ee9a6532b43d38121eab9da96b945": {
     "model_module": "@jupyter-widgets/controls",
     "model_name": "FloatProgressModel",
     "state": {
      "_dom_classes": [],
      "_model_module": "@jupyter-widgets/controls",
      "_model_module_version": "1.5.0",
      "_model_name": "FloatProgressModel",
      "_view_count": null,
      "_view_module": "@jupyter-widgets/controls",
      "_view_module_version": "1.5.0",
      "_view_name": "ProgressView",
      "bar_style": "success",
      "description": "",
      "description_tooltip": null,
      "layout": "IPY_MODEL_bc42a2c3f3654264a4a05f323df136e5",
      "max": 312.5,
      "min": 0,
      "orientation": "horizontal",
      "style": "IPY_MODEL_15432d8bac1c4ea893702e898ee65148",
      "value": 312.5
     }
    },
    "020960f29de740109e7026f69bc4d20f": {
     "model_module": "@jupyter-widgets/controls",
     "model_name": "HBoxModel",
     "state": {
      "_dom_classes": [],
      "_model_module": "@jupyter-widgets/controls",
      "_model_module_version": "1.5.0",
      "_model_name": "HBoxModel",
      "_view_count": null,
      "_view_module": "@jupyter-widgets/controls",
      "_view_module_version": "1.5.0",
      "_view_name": "HBoxView",
      "box_style": "",
      "children": [
       "IPY_MODEL_20782da352d6486abe6e06170a1f89a7",
       "IPY_MODEL_d46271ece22b4859941b0b0f1917ff3a"
      ],
      "layout": "IPY_MODEL_e63529e7eb3240b287d9710e0c08d18b"
     }
    },
    "06a1a4443f24414ab723dc97ca79fbb7": {
     "model_module": "@jupyter-widgets/base",
     "model_name": "LayoutModel",
     "state": {
      "_model_module": "@jupyter-widgets/base",
      "_model_module_version": "1.2.0",
      "_model_name": "LayoutModel",
      "_view_count": null,
      "_view_module": "@jupyter-widgets/base",
      "_view_module_version": "1.2.0",
      "_view_name": "LayoutView",
      "align_content": null,
      "align_items": null,
      "align_self": null,
      "border": null,
      "bottom": null,
      "display": null,
      "flex": null,
      "flex_flow": null,
      "grid_area": null,
      "grid_auto_columns": null,
      "grid_auto_flow": null,
      "grid_auto_rows": null,
      "grid_column": null,
      "grid_gap": null,
      "grid_row": null,
      "grid_template_areas": null,
      "grid_template_columns": null,
      "grid_template_rows": null,
      "height": null,
      "justify_content": null,
      "justify_items": null,
      "left": null,
      "margin": null,
      "max_height": null,
      "max_width": null,
      "min_height": null,
      "min_width": null,
      "object_fit": null,
      "object_position": null,
      "order": null,
      "overflow": null,
      "overflow_x": null,
      "overflow_y": null,
      "padding": null,
      "right": null,
      "top": null,
      "visibility": null,
      "width": null
     }
    },
    "0cf813b94a2e44739fea48e1acfeb648": {
     "model_module": "@jupyter-widgets/controls",
     "model_name": "HBoxModel",
     "state": {
      "_dom_classes": [],
      "_model_module": "@jupyter-widgets/controls",
      "_model_module_version": "1.5.0",
      "_model_name": "HBoxModel",
      "_view_count": null,
      "_view_module": "@jupyter-widgets/controls",
      "_view_module_version": "1.5.0",
      "_view_name": "HBoxView",
      "box_style": "",
      "children": [
       "IPY_MODEL_cef13148cef0417c8a738ab6746d61eb",
       "IPY_MODEL_d5cfcb8df03f478b8c962d550e90b807"
      ],
      "layout": "IPY_MODEL_ee78efa9aee54b6b8ff235f118b8a313"
     }
    },
    "101d40afbdc74e7fb195f13ff5f4568d": {
     "model_module": "@jupyter-widgets/controls",
     "model_name": "DescriptionStyleModel",
     "state": {
      "_model_module": "@jupyter-widgets/controls",
      "_model_module_version": "1.5.0",
      "_model_name": "DescriptionStyleModel",
      "_view_count": null,
      "_view_module": "@jupyter-widgets/base",
      "_view_module_version": "1.2.0",
      "_view_name": "StyleView",
      "description_width": ""
     }
    },
    "141bc0b35838446cba79679fdacc029f": {
     "model_module": "@jupyter-widgets/controls",
     "model_name": "FloatProgressModel",
     "state": {
      "_dom_classes": [],
      "_model_module": "@jupyter-widgets/controls",
      "_model_module_version": "1.5.0",
      "_model_name": "FloatProgressModel",
      "_view_count": null,
      "_view_module": "@jupyter-widgets/controls",
      "_view_module_version": "1.5.0",
      "_view_name": "ProgressView",
      "bar_style": "success",
      "description": "",
      "description_tooltip": null,
      "layout": "IPY_MODEL_4d297c3e5cab4df583216441c21d1134",
      "max": 312.5,
      "min": 0,
      "orientation": "horizontal",
      "style": "IPY_MODEL_f8fa20e4d39e47dab126a4c1894be773",
      "value": 312.5
     }
    },
    "15432d8bac1c4ea893702e898ee65148": {
     "model_module": "@jupyter-widgets/controls",
     "model_name": "ProgressStyleModel",
     "state": {
      "_model_module": "@jupyter-widgets/controls",
      "_model_module_version": "1.5.0",
      "_model_name": "ProgressStyleModel",
      "_view_count": null,
      "_view_module": "@jupyter-widgets/base",
      "_view_module_version": "1.2.0",
      "_view_name": "StyleView",
      "bar_color": null,
      "description_width": "initial"
     }
    },
    "176e2e730a234cf5bdeacef7252ce927": {
     "model_module": "@jupyter-widgets/base",
     "model_name": "LayoutModel",
     "state": {
      "_model_module": "@jupyter-widgets/base",
      "_model_module_version": "1.2.0",
      "_model_name": "LayoutModel",
      "_view_count": null,
      "_view_module": "@jupyter-widgets/base",
      "_view_module_version": "1.2.0",
      "_view_name": "LayoutView",
      "align_content": null,
      "align_items": null,
      "align_self": null,
      "border": null,
      "bottom": null,
      "display": null,
      "flex": null,
      "flex_flow": null,
      "grid_area": null,
      "grid_auto_columns": null,
      "grid_auto_flow": null,
      "grid_auto_rows": null,
      "grid_column": null,
      "grid_gap": null,
      "grid_row": null,
      "grid_template_areas": null,
      "grid_template_columns": null,
      "grid_template_rows": null,
      "height": null,
      "justify_content": null,
      "justify_items": null,
      "left": null,
      "margin": null,
      "max_height": null,
      "max_width": null,
      "min_height": null,
      "min_width": null,
      "object_fit": null,
      "object_position": null,
      "order": null,
      "overflow": null,
      "overflow_x": null,
      "overflow_y": null,
      "padding": null,
      "right": null,
      "top": null,
      "visibility": null,
      "width": null
     }
    },
    "1ad6843bd1004b508785c77270f7ddc5": {
     "model_module": "@jupyter-widgets/controls",
     "model_name": "ProgressStyleModel",
     "state": {
      "_model_module": "@jupyter-widgets/controls",
      "_model_module_version": "1.5.0",
      "_model_name": "ProgressStyleModel",
      "_view_count": null,
      "_view_module": "@jupyter-widgets/base",
      "_view_module_version": "1.2.0",
      "_view_name": "StyleView",
      "bar_color": null,
      "description_width": "initial"
     }
    },
    "20782da352d6486abe6e06170a1f89a7": {
     "model_module": "@jupyter-widgets/controls",
     "model_name": "FloatProgressModel",
     "state": {
      "_dom_classes": [],
      "_model_module": "@jupyter-widgets/controls",
      "_model_module_version": "1.5.0",
      "_model_name": "FloatProgressModel",
      "_view_count": null,
      "_view_module": "@jupyter-widgets/controls",
      "_view_module_version": "1.5.0",
      "_view_name": "ProgressView",
      "bar_style": "success",
      "description": "100%",
      "description_tooltip": null,
      "layout": "IPY_MODEL_ba7ac4e9015c4905aed2321941ab7236",
      "max": 1875,
      "min": 0,
      "orientation": "horizontal",
      "style": "IPY_MODEL_6f86ed3cb5ab4a2592d4bef690217ad9",
      "value": 1875
     }
    },
    "212e2cb095e6467b8b9277accc773f13": {
     "model_module": "@jupyter-widgets/base",
     "model_name": "LayoutModel",
     "state": {
      "_model_module": "@jupyter-widgets/base",
      "_model_module_version": "1.2.0",
      "_model_name": "LayoutModel",
      "_view_count": null,
      "_view_module": "@jupyter-widgets/base",
      "_view_module_version": "1.2.0",
      "_view_name": "LayoutView",
      "align_content": null,
      "align_items": null,
      "align_self": null,
      "border": null,
      "bottom": null,
      "display": null,
      "flex": null,
      "flex_flow": null,
      "grid_area": null,
      "grid_auto_columns": null,
      "grid_auto_flow": null,
      "grid_auto_rows": null,
      "grid_column": null,
      "grid_gap": null,
      "grid_row": null,
      "grid_template_areas": null,
      "grid_template_columns": null,
      "grid_template_rows": null,
      "height": null,
      "justify_content": null,
      "justify_items": null,
      "left": null,
      "margin": null,
      "max_height": null,
      "max_width": null,
      "min_height": null,
      "min_width": null,
      "object_fit": null,
      "object_position": null,
      "order": null,
      "overflow": null,
      "overflow_x": null,
      "overflow_y": null,
      "padding": null,
      "right": null,
      "top": null,
      "visibility": null,
      "width": null
     }
    },
    "22a6d1b8b78a4db5a478d7dacfdf4572": {
     "model_module": "@jupyter-widgets/controls",
     "model_name": "HTMLModel",
     "state": {
      "_dom_classes": [],
      "_model_module": "@jupyter-widgets/controls",
      "_model_module_version": "1.5.0",
      "_model_name": "HTMLModel",
      "_view_count": null,
      "_view_module": "@jupyter-widgets/controls",
      "_view_module_version": "1.5.0",
      "_view_name": "HTMLView",
      "description": "",
      "description_tooltip": null,
      "layout": "IPY_MODEL_212e2cb095e6467b8b9277accc773f13",
      "placeholder": "​",
      "style": "IPY_MODEL_8dbe44651e9e445698ca5559bf763f3e",
      "value": " 1875/1875.0 [00:09&lt;00:00, 193.51it/s]"
     }
    },
    "28d28d4417a64e5a96aec8f05514ad62": {
     "model_module": "@jupyter-widgets/base",
     "model_name": "LayoutModel",
     "state": {
      "_model_module": "@jupyter-widgets/base",
      "_model_module_version": "1.2.0",
      "_model_name": "LayoutModel",
      "_view_count": null,
      "_view_module": "@jupyter-widgets/base",
      "_view_module_version": "1.2.0",
      "_view_name": "LayoutView",
      "align_content": null,
      "align_items": null,
      "align_self": null,
      "border": null,
      "bottom": null,
      "display": null,
      "flex": null,
      "flex_flow": null,
      "grid_area": null,
      "grid_auto_columns": null,
      "grid_auto_flow": null,
      "grid_auto_rows": null,
      "grid_column": null,
      "grid_gap": null,
      "grid_row": null,
      "grid_template_areas": null,
      "grid_template_columns": null,
      "grid_template_rows": null,
      "height": null,
      "justify_content": null,
      "justify_items": null,
      "left": null,
      "margin": null,
      "max_height": null,
      "max_width": null,
      "min_height": null,
      "min_width": null,
      "object_fit": null,
      "object_position": null,
      "order": null,
      "overflow": null,
      "overflow_x": null,
      "overflow_y": null,
      "padding": null,
      "right": null,
      "top": null,
      "visibility": null,
      "width": null
     }
    },
    "304d7998d8184f3184fda8f6b11452cc": {
     "model_module": "@jupyter-widgets/controls",
     "model_name": "DescriptionStyleModel",
     "state": {
      "_model_module": "@jupyter-widgets/controls",
      "_model_module_version": "1.5.0",
      "_model_name": "DescriptionStyleModel",
      "_view_count": null,
      "_view_module": "@jupyter-widgets/base",
      "_view_module_version": "1.2.0",
      "_view_name": "StyleView",
      "description_width": ""
     }
    },
    "34815995a02b4340addecb460ea02b3d": {
     "model_module": "@jupyter-widgets/controls",
     "model_name": "FloatProgressModel",
     "state": {
      "_dom_classes": [],
      "_model_module": "@jupyter-widgets/controls",
      "_model_module_version": "1.5.0",
      "_model_name": "FloatProgressModel",
      "_view_count": null,
      "_view_module": "@jupyter-widgets/controls",
      "_view_module_version": "1.5.0",
      "_view_name": "ProgressView",
      "bar_style": "success",
      "description": "",
      "description_tooltip": null,
      "layout": "IPY_MODEL_427d854baff04951a40aa2fcee0fc25b",
      "max": 312.5,
      "min": 0,
      "orientation": "horizontal",
      "style": "IPY_MODEL_1ad6843bd1004b508785c77270f7ddc5",
      "value": 312.5
     }
    },
    "3db78495a86a430aa5e0be42660b7a7f": {
     "model_module": "@jupyter-widgets/controls",
     "model_name": "DescriptionStyleModel",
     "state": {
      "_model_module": "@jupyter-widgets/controls",
      "_model_module_version": "1.5.0",
      "_model_name": "DescriptionStyleModel",
      "_view_count": null,
      "_view_module": "@jupyter-widgets/base",
      "_view_module_version": "1.2.0",
      "_view_name": "StyleView",
      "description_width": ""
     }
    },
    "3dd5d6399d6346deba300612936a92a2": {
     "model_module": "@jupyter-widgets/controls",
     "model_name": "ProgressStyleModel",
     "state": {
      "_model_module": "@jupyter-widgets/controls",
      "_model_module_version": "1.5.0",
      "_model_name": "ProgressStyleModel",
      "_view_count": null,
      "_view_module": "@jupyter-widgets/base",
      "_view_module_version": "1.2.0",
      "_view_name": "StyleView",
      "bar_color": null,
      "description_width": "initial"
     }
    },
    "3f0bbff53a04410b9512a9f0e8d7d85b": {
     "model_module": "@jupyter-widgets/controls",
     "model_name": "HTMLModel",
     "state": {
      "_dom_classes": [],
      "_model_module": "@jupyter-widgets/controls",
      "_model_module_version": "1.5.0",
      "_model_name": "HTMLModel",
      "_view_count": null,
      "_view_module": "@jupyter-widgets/controls",
      "_view_module_version": "1.5.0",
      "_view_name": "HTMLView",
      "description": "",
      "description_tooltip": null,
      "layout": "IPY_MODEL_77b7e16757fd483585b02cb350b4c26d",
      "placeholder": "​",
      "style": "IPY_MODEL_5beb3387fe61433197c30e917c3c4c70",
      "value": " 313/? [00:01&lt;00:00, 210.76it/s]"
     }
    },
    "410037aaa59a41d48840255c71c75acf": {
     "model_module": "@jupyter-widgets/controls",
     "model_name": "HBoxModel",
     "state": {
      "_dom_classes": [],
      "_model_module": "@jupyter-widgets/controls",
      "_model_module_version": "1.5.0",
      "_model_name": "HBoxModel",
      "_view_count": null,
      "_view_module": "@jupyter-widgets/controls",
      "_view_module_version": "1.5.0",
      "_view_name": "HBoxView",
      "box_style": "",
      "children": [
       "IPY_MODEL_b0e9633c0d1a4be4960ce22a2c02904e",
       "IPY_MODEL_9eaffea447534fbb9aa9c20158a0f063"
      ],
      "layout": "IPY_MODEL_a072d18c7ea64d81ad92f2e70919ab5b"
     }
    },
    "427d854baff04951a40aa2fcee0fc25b": {
     "model_module": "@jupyter-widgets/base",
     "model_name": "LayoutModel",
     "state": {
      "_model_module": "@jupyter-widgets/base",
      "_model_module_version": "1.2.0",
      "_model_name": "LayoutModel",
      "_view_count": null,
      "_view_module": "@jupyter-widgets/base",
      "_view_module_version": "1.2.0",
      "_view_name": "LayoutView",
      "align_content": null,
      "align_items": null,
      "align_self": null,
      "border": null,
      "bottom": null,
      "display": null,
      "flex": null,
      "flex_flow": null,
      "grid_area": null,
      "grid_auto_columns": null,
      "grid_auto_flow": null,
      "grid_auto_rows": null,
      "grid_column": null,
      "grid_gap": null,
      "grid_row": null,
      "grid_template_areas": null,
      "grid_template_columns": null,
      "grid_template_rows": null,
      "height": null,
      "justify_content": null,
      "justify_items": null,
      "left": null,
      "margin": null,
      "max_height": null,
      "max_width": null,
      "min_height": null,
      "min_width": null,
      "object_fit": null,
      "object_position": null,
      "order": null,
      "overflow": null,
      "overflow_x": null,
      "overflow_y": null,
      "padding": null,
      "right": null,
      "top": null,
      "visibility": null,
      "width": null
     }
    },
    "4a2807d7958a48158724880723b634f9": {
     "model_module": "@jupyter-widgets/controls",
     "model_name": "DescriptionStyleModel",
     "state": {
      "_model_module": "@jupyter-widgets/controls",
      "_model_module_version": "1.5.0",
      "_model_name": "DescriptionStyleModel",
      "_view_count": null,
      "_view_module": "@jupyter-widgets/base",
      "_view_module_version": "1.2.0",
      "_view_name": "StyleView",
      "description_width": ""
     }
    },
    "4c44d2f96f984ce9ba07bb811625b782": {
     "model_module": "@jupyter-widgets/controls",
     "model_name": "ProgressStyleModel",
     "state": {
      "_model_module": "@jupyter-widgets/controls",
      "_model_module_version": "1.5.0",
      "_model_name": "ProgressStyleModel",
      "_view_count": null,
      "_view_module": "@jupyter-widgets/base",
      "_view_module_version": "1.2.0",
      "_view_name": "StyleView",
      "bar_color": null,
      "description_width": "initial"
     }
    },
    "4d0d38fbd9d847619452aee4876ad2b5": {
     "model_module": "@jupyter-widgets/controls",
     "model_name": "HBoxModel",
     "state": {
      "_dom_classes": [],
      "_model_module": "@jupyter-widgets/controls",
      "_model_module_version": "1.5.0",
      "_model_name": "HBoxModel",
      "_view_count": null,
      "_view_module": "@jupyter-widgets/controls",
      "_view_module_version": "1.5.0",
      "_view_name": "HBoxView",
      "box_style": "",
      "children": [
       "IPY_MODEL_f9b255bc935e4c78ae2779cae7baa6ac",
       "IPY_MODEL_822d00acf42943c69ccb246433f1f9f1"
      ],
      "layout": "IPY_MODEL_8116a43cf6074b9c8dc724d58ac84099"
     }
    },
    "4d297c3e5cab4df583216441c21d1134": {
     "model_module": "@jupyter-widgets/base",
     "model_name": "LayoutModel",
     "state": {
      "_model_module": "@jupyter-widgets/base",
      "_model_module_version": "1.2.0",
      "_model_name": "LayoutModel",
      "_view_count": null,
      "_view_module": "@jupyter-widgets/base",
      "_view_module_version": "1.2.0",
      "_view_name": "LayoutView",
      "align_content": null,
      "align_items": null,
      "align_self": null,
      "border": null,
      "bottom": null,
      "display": null,
      "flex": null,
      "flex_flow": null,
      "grid_area": null,
      "grid_auto_columns": null,
      "grid_auto_flow": null,
      "grid_auto_rows": null,
      "grid_column": null,
      "grid_gap": null,
      "grid_row": null,
      "grid_template_areas": null,
      "grid_template_columns": null,
      "grid_template_rows": null,
      "height": null,
      "justify_content": null,
      "justify_items": null,
      "left": null,
      "margin": null,
      "max_height": null,
      "max_width": null,
      "min_height": null,
      "min_width": null,
      "object_fit": null,
      "object_position": null,
      "order": null,
      "overflow": null,
      "overflow_x": null,
      "overflow_y": null,
      "padding": null,
      "right": null,
      "top": null,
      "visibility": null,
      "width": null
     }
    },
    "5701dea79fb6484182704ff6b7d74371": {
     "model_module": "@jupyter-widgets/base",
     "model_name": "LayoutModel",
     "state": {
      "_model_module": "@jupyter-widgets/base",
      "_model_module_version": "1.2.0",
      "_model_name": "LayoutModel",
      "_view_count": null,
      "_view_module": "@jupyter-widgets/base",
      "_view_module_version": "1.2.0",
      "_view_name": "LayoutView",
      "align_content": null,
      "align_items": null,
      "align_self": null,
      "border": null,
      "bottom": null,
      "display": null,
      "flex": null,
      "flex_flow": null,
      "grid_area": null,
      "grid_auto_columns": null,
      "grid_auto_flow": null,
      "grid_auto_rows": null,
      "grid_column": null,
      "grid_gap": null,
      "grid_row": null,
      "grid_template_areas": null,
      "grid_template_columns": null,
      "grid_template_rows": null,
      "height": null,
      "justify_content": null,
      "justify_items": null,
      "left": null,
      "margin": null,
      "max_height": null,
      "max_width": null,
      "min_height": null,
      "min_width": null,
      "object_fit": null,
      "object_position": null,
      "order": null,
      "overflow": null,
      "overflow_x": null,
      "overflow_y": null,
      "padding": null,
      "right": null,
      "top": null,
      "visibility": null,
      "width": null
     }
    },
    "5beb3387fe61433197c30e917c3c4c70": {
     "model_module": "@jupyter-widgets/controls",
     "model_name": "DescriptionStyleModel",
     "state": {
      "_model_module": "@jupyter-widgets/controls",
      "_model_module_version": "1.5.0",
      "_model_name": "DescriptionStyleModel",
      "_view_count": null,
      "_view_module": "@jupyter-widgets/base",
      "_view_module_version": "1.2.0",
      "_view_name": "StyleView",
      "description_width": ""
     }
    },
    "6170f0b4fb3a43d08d2a47df424b7b9a": {
     "model_module": "@jupyter-widgets/base",
     "model_name": "LayoutModel",
     "state": {
      "_model_module": "@jupyter-widgets/base",
      "_model_module_version": "1.2.0",
      "_model_name": "LayoutModel",
      "_view_count": null,
      "_view_module": "@jupyter-widgets/base",
      "_view_module_version": "1.2.0",
      "_view_name": "LayoutView",
      "align_content": null,
      "align_items": null,
      "align_self": null,
      "border": null,
      "bottom": null,
      "display": null,
      "flex": null,
      "flex_flow": null,
      "grid_area": null,
      "grid_auto_columns": null,
      "grid_auto_flow": null,
      "grid_auto_rows": null,
      "grid_column": null,
      "grid_gap": null,
      "grid_row": null,
      "grid_template_areas": null,
      "grid_template_columns": null,
      "grid_template_rows": null,
      "height": null,
      "justify_content": null,
      "justify_items": null,
      "left": null,
      "margin": null,
      "max_height": null,
      "max_width": null,
      "min_height": null,
      "min_width": null,
      "object_fit": null,
      "object_position": null,
      "order": null,
      "overflow": null,
      "overflow_x": null,
      "overflow_y": null,
      "padding": null,
      "right": null,
      "top": null,
      "visibility": null,
      "width": null
     }
    },
    "64b1c2c466a4437280f2f7dc87e4a06f": {
     "model_module": "@jupyter-widgets/controls",
     "model_name": "FloatProgressModel",
     "state": {
      "_dom_classes": [],
      "_model_module": "@jupyter-widgets/controls",
      "_model_module_version": "1.5.0",
      "_model_name": "FloatProgressModel",
      "_view_count": null,
      "_view_module": "@jupyter-widgets/controls",
      "_view_module_version": "1.5.0",
      "_view_name": "ProgressView",
      "bar_style": "success",
      "description": "100%",
      "description_tooltip": null,
      "layout": "IPY_MODEL_28d28d4417a64e5a96aec8f05514ad62",
      "max": 1875,
      "min": 0,
      "orientation": "horizontal",
      "style": "IPY_MODEL_a632d187c67e4f05bbf85a22e5f2d133",
      "value": 1875
     }
    },
    "6ccc22055a9b44bf8545d46d3fa81055": {
     "model_module": "@jupyter-widgets/controls",
     "model_name": "FloatProgressModel",
     "state": {
      "_dom_classes": [],
      "_model_module": "@jupyter-widgets/controls",
      "_model_module_version": "1.5.0",
      "_model_name": "FloatProgressModel",
      "_view_count": null,
      "_view_module": "@jupyter-widgets/controls",
      "_view_module_version": "1.5.0",
      "_view_name": "ProgressView",
      "bar_style": "success",
      "description": "",
      "description_tooltip": null,
      "layout": "IPY_MODEL_ee319a035058442287ce822bba02ad71",
      "max": 312.5,
      "min": 0,
      "orientation": "horizontal",
      "style": "IPY_MODEL_ba22f162166542ef9ab1c2706b9e6ac3",
      "value": 312.5
     }
    },
    "6f86ed3cb5ab4a2592d4bef690217ad9": {
     "model_module": "@jupyter-widgets/controls",
     "model_name": "ProgressStyleModel",
     "state": {
      "_model_module": "@jupyter-widgets/controls",
      "_model_module_version": "1.5.0",
      "_model_name": "ProgressStyleModel",
      "_view_count": null,
      "_view_module": "@jupyter-widgets/base",
      "_view_module_version": "1.2.0",
      "_view_name": "StyleView",
      "bar_color": null,
      "description_width": "initial"
     }
    },
    "74a05ddbda3347e98f8d7df35df00477": {
     "model_module": "@jupyter-widgets/controls",
     "model_name": "ProgressStyleModel",
     "state": {
      "_model_module": "@jupyter-widgets/controls",
      "_model_module_version": "1.5.0",
      "_model_name": "ProgressStyleModel",
      "_view_count": null,
      "_view_module": "@jupyter-widgets/base",
      "_view_module_version": "1.2.0",
      "_view_name": "StyleView",
      "bar_color": null,
      "description_width": "initial"
     }
    },
    "77b7e16757fd483585b02cb350b4c26d": {
     "model_module": "@jupyter-widgets/base",
     "model_name": "LayoutModel",
     "state": {
      "_model_module": "@jupyter-widgets/base",
      "_model_module_version": "1.2.0",
      "_model_name": "LayoutModel",
      "_view_count": null,
      "_view_module": "@jupyter-widgets/base",
      "_view_module_version": "1.2.0",
      "_view_name": "LayoutView",
      "align_content": null,
      "align_items": null,
      "align_self": null,
      "border": null,
      "bottom": null,
      "display": null,
      "flex": null,
      "flex_flow": null,
      "grid_area": null,
      "grid_auto_columns": null,
      "grid_auto_flow": null,
      "grid_auto_rows": null,
      "grid_column": null,
      "grid_gap": null,
      "grid_row": null,
      "grid_template_areas": null,
      "grid_template_columns": null,
      "grid_template_rows": null,
      "height": null,
      "justify_content": null,
      "justify_items": null,
      "left": null,
      "margin": null,
      "max_height": null,
      "max_width": null,
      "min_height": null,
      "min_width": null,
      "object_fit": null,
      "object_position": null,
      "order": null,
      "overflow": null,
      "overflow_x": null,
      "overflow_y": null,
      "padding": null,
      "right": null,
      "top": null,
      "visibility": null,
      "width": null
     }
    },
    "7cdc12313af546979ed48937d5ad2fa9": {
     "model_module": "@jupyter-widgets/controls",
     "model_name": "HTMLModel",
     "state": {
      "_dom_classes": [],
      "_model_module": "@jupyter-widgets/controls",
      "_model_module_version": "1.5.0",
      "_model_name": "HTMLModel",
      "_view_count": null,
      "_view_module": "@jupyter-widgets/controls",
      "_view_module_version": "1.5.0",
      "_view_name": "HTMLView",
      "description": "",
      "description_tooltip": null,
      "layout": "IPY_MODEL_6170f0b4fb3a43d08d2a47df424b7b9a",
      "placeholder": "​",
      "style": "IPY_MODEL_304d7998d8184f3184fda8f6b11452cc",
      "value": " 313/? [00:23&lt;00:00, 13.53it/s]"
     }
    },
    "80754b11bf2742f1825af114fd803bef": {
     "model_module": "@jupyter-widgets/controls",
     "model_name": "HBoxModel",
     "state": {
      "_dom_classes": [],
      "_model_module": "@jupyter-widgets/controls",
      "_model_module_version": "1.5.0",
      "_model_name": "HBoxModel",
      "_view_count": null,
      "_view_module": "@jupyter-widgets/controls",
      "_view_module_version": "1.5.0",
      "_view_name": "HBoxView",
      "box_style": "",
      "children": [
       "IPY_MODEL_009ee9a6532b43d38121eab9da96b945",
       "IPY_MODEL_3f0bbff53a04410b9512a9f0e8d7d85b"
      ],
      "layout": "IPY_MODEL_a3fbe2b420d04d6490a2a70afff0b920"
     }
    },
    "8116a43cf6074b9c8dc724d58ac84099": {
     "model_module": "@jupyter-widgets/base",
     "model_name": "LayoutModel",
     "state": {
      "_model_module": "@jupyter-widgets/base",
      "_model_module_version": "1.2.0",
      "_model_name": "LayoutModel",
      "_view_count": null,
      "_view_module": "@jupyter-widgets/base",
      "_view_module_version": "1.2.0",
      "_view_name": "LayoutView",
      "align_content": null,
      "align_items": null,
      "align_self": null,
      "border": null,
      "bottom": null,
      "display": null,
      "flex": null,
      "flex_flow": null,
      "grid_area": null,
      "grid_auto_columns": null,
      "grid_auto_flow": null,
      "grid_auto_rows": null,
      "grid_column": null,
      "grid_gap": null,
      "grid_row": null,
      "grid_template_areas": null,
      "grid_template_columns": null,
      "grid_template_rows": null,
      "height": null,
      "justify_content": null,
      "justify_items": null,
      "left": null,
      "margin": null,
      "max_height": null,
      "max_width": null,
      "min_height": null,
      "min_width": null,
      "object_fit": null,
      "object_position": null,
      "order": null,
      "overflow": null,
      "overflow_x": null,
      "overflow_y": null,
      "padding": null,
      "right": null,
      "top": null,
      "visibility": null,
      "width": null
     }
    },
    "822d00acf42943c69ccb246433f1f9f1": {
     "model_module": "@jupyter-widgets/controls",
     "model_name": "HTMLModel",
     "state": {
      "_dom_classes": [],
      "_model_module": "@jupyter-widgets/controls",
      "_model_module_version": "1.5.0",
      "_model_name": "HTMLModel",
      "_view_count": null,
      "_view_module": "@jupyter-widgets/controls",
      "_view_module_version": "1.5.0",
      "_view_name": "HTMLView",
      "description": "",
      "description_tooltip": null,
      "layout": "IPY_MODEL_9d23196646de4c91b1eaa195cddf6d71",
      "placeholder": "​",
      "style": "IPY_MODEL_9a21b83b4d4e47919e18f9095aa72d21",
      "value": " 1875/1875.0 [00:44&lt;00:00, 42.05it/s]"
     }
    },
    "849ccace74ed49e5b1422659be7607e5": {
     "model_module": "@jupyter-widgets/controls",
     "model_name": "HBoxModel",
     "state": {
      "_dom_classes": [],
      "_model_module": "@jupyter-widgets/controls",
      "_model_module_version": "1.5.0",
      "_model_name": "HBoxModel",
      "_view_count": null,
      "_view_module": "@jupyter-widgets/controls",
      "_view_module_version": "1.5.0",
      "_view_name": "HBoxView",
      "box_style": "",
      "children": [
       "IPY_MODEL_ae1508cc4b074103aaea6f762667c005",
       "IPY_MODEL_9255ac7262284dc2ac4ee7ce46a255ca"
      ],
      "layout": "IPY_MODEL_9eeeca3fe3994c56aad9debbd16fc1c1"
     }
    },
    "85f9941dc5b84f3e97cb1f88bb550414": {
     "model_module": "@jupyter-widgets/base",
     "model_name": "LayoutModel",
     "state": {
      "_model_module": "@jupyter-widgets/base",
      "_model_module_version": "1.2.0",
      "_model_name": "LayoutModel",
      "_view_count": null,
      "_view_module": "@jupyter-widgets/base",
      "_view_module_version": "1.2.0",
      "_view_name": "LayoutView",
      "align_content": null,
      "align_items": null,
      "align_self": null,
      "border": null,
      "bottom": null,
      "display": null,
      "flex": null,
      "flex_flow": null,
      "grid_area": null,
      "grid_auto_columns": null,
      "grid_auto_flow": null,
      "grid_auto_rows": null,
      "grid_column": null,
      "grid_gap": null,
      "grid_row": null,
      "grid_template_areas": null,
      "grid_template_columns": null,
      "grid_template_rows": null,
      "height": null,
      "justify_content": null,
      "justify_items": null,
      "left": null,
      "margin": null,
      "max_height": null,
      "max_width": null,
      "min_height": null,
      "min_width": null,
      "object_fit": null,
      "object_position": null,
      "order": null,
      "overflow": null,
      "overflow_x": null,
      "overflow_y": null,
      "padding": null,
      "right": null,
      "top": null,
      "visibility": null,
      "width": null
     }
    },
    "8741246c4e474371ae4d3d467dc4b1f9": {
     "model_module": "@jupyter-widgets/controls",
     "model_name": "DescriptionStyleModel",
     "state": {
      "_model_module": "@jupyter-widgets/controls",
      "_model_module_version": "1.5.0",
      "_model_name": "DescriptionStyleModel",
      "_view_count": null,
      "_view_module": "@jupyter-widgets/base",
      "_view_module_version": "1.2.0",
      "_view_name": "StyleView",
      "description_width": ""
     }
    },
    "8dbe44651e9e445698ca5559bf763f3e": {
     "model_module": "@jupyter-widgets/controls",
     "model_name": "DescriptionStyleModel",
     "state": {
      "_model_module": "@jupyter-widgets/controls",
      "_model_module_version": "1.5.0",
      "_model_name": "DescriptionStyleModel",
      "_view_count": null,
      "_view_module": "@jupyter-widgets/base",
      "_view_module_version": "1.2.0",
      "_view_name": "StyleView",
      "description_width": ""
     }
    },
    "8e2d702246d64e41a7970585f9b30d64": {
     "model_module": "@jupyter-widgets/controls",
     "model_name": "HBoxModel",
     "state": {
      "_dom_classes": [],
      "_model_module": "@jupyter-widgets/controls",
      "_model_module_version": "1.5.0",
      "_model_name": "HBoxModel",
      "_view_count": null,
      "_view_module": "@jupyter-widgets/controls",
      "_view_module_version": "1.5.0",
      "_view_name": "HBoxView",
      "box_style": "",
      "children": [
       "IPY_MODEL_34815995a02b4340addecb460ea02b3d",
       "IPY_MODEL_7cdc12313af546979ed48937d5ad2fa9"
      ],
      "layout": "IPY_MODEL_5701dea79fb6484182704ff6b7d74371"
     }
    },
    "91083134402f4d2393fd49ae32cc5032": {
     "model_module": "@jupyter-widgets/controls",
     "model_name": "HBoxModel",
     "state": {
      "_dom_classes": [],
      "_model_module": "@jupyter-widgets/controls",
      "_model_module_version": "1.5.0",
      "_model_name": "HBoxModel",
      "_view_count": null,
      "_view_module": "@jupyter-widgets/controls",
      "_view_module_version": "1.5.0",
      "_view_name": "HBoxView",
      "box_style": "",
      "children": [
       "IPY_MODEL_141bc0b35838446cba79679fdacc029f",
       "IPY_MODEL_a63187339f1843e793133c5427963658"
      ],
      "layout": "IPY_MODEL_9a7d6496b461448d9cb16448dd012696"
     }
    },
    "913eb5789e154eeea03d6e5f11bd6601": {
     "model_module": "@jupyter-widgets/controls",
     "model_name": "DescriptionStyleModel",
     "state": {
      "_model_module": "@jupyter-widgets/controls",
      "_model_module_version": "1.5.0",
      "_model_name": "DescriptionStyleModel",
      "_view_count": null,
      "_view_module": "@jupyter-widgets/base",
      "_view_module_version": "1.2.0",
      "_view_name": "StyleView",
      "description_width": ""
     }
    },
    "9255ac7262284dc2ac4ee7ce46a255ca": {
     "model_module": "@jupyter-widgets/controls",
     "model_name": "HTMLModel",
     "state": {
      "_dom_classes": [],
      "_model_module": "@jupyter-widgets/controls",
      "_model_module_version": "1.5.0",
      "_model_name": "HTMLModel",
      "_view_count": null,
      "_view_module": "@jupyter-widgets/controls",
      "_view_module_version": "1.5.0",
      "_view_name": "HTMLView",
      "description": "",
      "description_tooltip": null,
      "layout": "IPY_MODEL_06a1a4443f24414ab723dc97ca79fbb7",
      "placeholder": "​",
      "style": "IPY_MODEL_8741246c4e474371ae4d3d467dc4b1f9",
      "value": " 1091/1875.0 [00:16&lt;00:04, 189.81it/s]"
     }
    },
    "9994e0a66e6343fdb04c8248ff6f773f": {
     "model_module": "@jupyter-widgets/base",
     "model_name": "LayoutModel",
     "state": {
      "_model_module": "@jupyter-widgets/base",
      "_model_module_version": "1.2.0",
      "_model_name": "LayoutModel",
      "_view_count": null,
      "_view_module": "@jupyter-widgets/base",
      "_view_module_version": "1.2.0",
      "_view_name": "LayoutView",
      "align_content": null,
      "align_items": null,
      "align_self": null,
      "border": null,
      "bottom": null,
      "display": null,
      "flex": null,
      "flex_flow": null,
      "grid_area": null,
      "grid_auto_columns": null,
      "grid_auto_flow": null,
      "grid_auto_rows": null,
      "grid_column": null,
      "grid_gap": null,
      "grid_row": null,
      "grid_template_areas": null,
      "grid_template_columns": null,
      "grid_template_rows": null,
      "height": null,
      "justify_content": null,
      "justify_items": null,
      "left": null,
      "margin": null,
      "max_height": null,
      "max_width": null,
      "min_height": null,
      "min_width": null,
      "object_fit": null,
      "object_position": null,
      "order": null,
      "overflow": null,
      "overflow_x": null,
      "overflow_y": null,
      "padding": null,
      "right": null,
      "top": null,
      "visibility": null,
      "width": null
     }
    },
    "9a21b83b4d4e47919e18f9095aa72d21": {
     "model_module": "@jupyter-widgets/controls",
     "model_name": "DescriptionStyleModel",
     "state": {
      "_model_module": "@jupyter-widgets/controls",
      "_model_module_version": "1.5.0",
      "_model_name": "DescriptionStyleModel",
      "_view_count": null,
      "_view_module": "@jupyter-widgets/base",
      "_view_module_version": "1.2.0",
      "_view_name": "StyleView",
      "description_width": ""
     }
    },
    "9a7d6496b461448d9cb16448dd012696": {
     "model_module": "@jupyter-widgets/base",
     "model_name": "LayoutModel",
     "state": {
      "_model_module": "@jupyter-widgets/base",
      "_model_module_version": "1.2.0",
      "_model_name": "LayoutModel",
      "_view_count": null,
      "_view_module": "@jupyter-widgets/base",
      "_view_module_version": "1.2.0",
      "_view_name": "LayoutView",
      "align_content": null,
      "align_items": null,
      "align_self": null,
      "border": null,
      "bottom": null,
      "display": null,
      "flex": null,
      "flex_flow": null,
      "grid_area": null,
      "grid_auto_columns": null,
      "grid_auto_flow": null,
      "grid_auto_rows": null,
      "grid_column": null,
      "grid_gap": null,
      "grid_row": null,
      "grid_template_areas": null,
      "grid_template_columns": null,
      "grid_template_rows": null,
      "height": null,
      "justify_content": null,
      "justify_items": null,
      "left": null,
      "margin": null,
      "max_height": null,
      "max_width": null,
      "min_height": null,
      "min_width": null,
      "object_fit": null,
      "object_position": null,
      "order": null,
      "overflow": null,
      "overflow_x": null,
      "overflow_y": null,
      "padding": null,
      "right": null,
      "top": null,
      "visibility": null,
      "width": null
     }
    },
    "9d23196646de4c91b1eaa195cddf6d71": {
     "model_module": "@jupyter-widgets/base",
     "model_name": "LayoutModel",
     "state": {
      "_model_module": "@jupyter-widgets/base",
      "_model_module_version": "1.2.0",
      "_model_name": "LayoutModel",
      "_view_count": null,
      "_view_module": "@jupyter-widgets/base",
      "_view_module_version": "1.2.0",
      "_view_name": "LayoutView",
      "align_content": null,
      "align_items": null,
      "align_self": null,
      "border": null,
      "bottom": null,
      "display": null,
      "flex": null,
      "flex_flow": null,
      "grid_area": null,
      "grid_auto_columns": null,
      "grid_auto_flow": null,
      "grid_auto_rows": null,
      "grid_column": null,
      "grid_gap": null,
      "grid_row": null,
      "grid_template_areas": null,
      "grid_template_columns": null,
      "grid_template_rows": null,
      "height": null,
      "justify_content": null,
      "justify_items": null,
      "left": null,
      "margin": null,
      "max_height": null,
      "max_width": null,
      "min_height": null,
      "min_width": null,
      "object_fit": null,
      "object_position": null,
      "order": null,
      "overflow": null,
      "overflow_x": null,
      "overflow_y": null,
      "padding": null,
      "right": null,
      "top": null,
      "visibility": null,
      "width": null
     }
    },
    "9eaffea447534fbb9aa9c20158a0f063": {
     "model_module": "@jupyter-widgets/controls",
     "model_name": "HTMLModel",
     "state": {
      "_dom_classes": [],
      "_model_module": "@jupyter-widgets/controls",
      "_model_module_version": "1.5.0",
      "_model_name": "HTMLModel",
      "_view_count": null,
      "_view_module": "@jupyter-widgets/controls",
      "_view_module_version": "1.5.0",
      "_view_name": "HTMLView",
      "description": "",
      "description_tooltip": null,
      "layout": "IPY_MODEL_85f9941dc5b84f3e97cb1f88bb550414",
      "placeholder": "​",
      "style": "IPY_MODEL_101d40afbdc74e7fb195f13ff5f4568d",
      "value": " 1875/1875.0 [00:21&lt;00:00, 87.12it/s]"
     }
    },
    "9eeeca3fe3994c56aad9debbd16fc1c1": {
     "model_module": "@jupyter-widgets/base",
     "model_name": "LayoutModel",
     "state": {
      "_model_module": "@jupyter-widgets/base",
      "_model_module_version": "1.2.0",
      "_model_name": "LayoutModel",
      "_view_count": null,
      "_view_module": "@jupyter-widgets/base",
      "_view_module_version": "1.2.0",
      "_view_name": "LayoutView",
      "align_content": null,
      "align_items": null,
      "align_self": null,
      "border": null,
      "bottom": null,
      "display": null,
      "flex": null,
      "flex_flow": null,
      "grid_area": null,
      "grid_auto_columns": null,
      "grid_auto_flow": null,
      "grid_auto_rows": null,
      "grid_column": null,
      "grid_gap": null,
      "grid_row": null,
      "grid_template_areas": null,
      "grid_template_columns": null,
      "grid_template_rows": null,
      "height": null,
      "justify_content": null,
      "justify_items": null,
      "left": null,
      "margin": null,
      "max_height": null,
      "max_width": null,
      "min_height": null,
      "min_width": null,
      "object_fit": null,
      "object_position": null,
      "order": null,
      "overflow": null,
      "overflow_x": null,
      "overflow_y": null,
      "padding": null,
      "right": null,
      "top": null,
      "visibility": null,
      "width": null
     }
    },
    "a072d18c7ea64d81ad92f2e70919ab5b": {
     "model_module": "@jupyter-widgets/base",
     "model_name": "LayoutModel",
     "state": {
      "_model_module": "@jupyter-widgets/base",
      "_model_module_version": "1.2.0",
      "_model_name": "LayoutModel",
      "_view_count": null,
      "_view_module": "@jupyter-widgets/base",
      "_view_module_version": "1.2.0",
      "_view_name": "LayoutView",
      "align_content": null,
      "align_items": null,
      "align_self": null,
      "border": null,
      "bottom": null,
      "display": null,
      "flex": null,
      "flex_flow": null,
      "grid_area": null,
      "grid_auto_columns": null,
      "grid_auto_flow": null,
      "grid_auto_rows": null,
      "grid_column": null,
      "grid_gap": null,
      "grid_row": null,
      "grid_template_areas": null,
      "grid_template_columns": null,
      "grid_template_rows": null,
      "height": null,
      "justify_content": null,
      "justify_items": null,
      "left": null,
      "margin": null,
      "max_height": null,
      "max_width": null,
      "min_height": null,
      "min_width": null,
      "object_fit": null,
      "object_position": null,
      "order": null,
      "overflow": null,
      "overflow_x": null,
      "overflow_y": null,
      "padding": null,
      "right": null,
      "top": null,
      "visibility": null,
      "width": null
     }
    },
    "a17fa58372084bcd89c12c1f8339abce": {
     "model_module": "@jupyter-widgets/base",
     "model_name": "LayoutModel",
     "state": {
      "_model_module": "@jupyter-widgets/base",
      "_model_module_version": "1.2.0",
      "_model_name": "LayoutModel",
      "_view_count": null,
      "_view_module": "@jupyter-widgets/base",
      "_view_module_version": "1.2.0",
      "_view_name": "LayoutView",
      "align_content": null,
      "align_items": null,
      "align_self": null,
      "border": null,
      "bottom": null,
      "display": null,
      "flex": null,
      "flex_flow": null,
      "grid_area": null,
      "grid_auto_columns": null,
      "grid_auto_flow": null,
      "grid_auto_rows": null,
      "grid_column": null,
      "grid_gap": null,
      "grid_row": null,
      "grid_template_areas": null,
      "grid_template_columns": null,
      "grid_template_rows": null,
      "height": null,
      "justify_content": null,
      "justify_items": null,
      "left": null,
      "margin": null,
      "max_height": null,
      "max_width": null,
      "min_height": null,
      "min_width": null,
      "object_fit": null,
      "object_position": null,
      "order": null,
      "overflow": null,
      "overflow_x": null,
      "overflow_y": null,
      "padding": null,
      "right": null,
      "top": null,
      "visibility": null,
      "width": null
     }
    },
    "a3fbe2b420d04d6490a2a70afff0b920": {
     "model_module": "@jupyter-widgets/base",
     "model_name": "LayoutModel",
     "state": {
      "_model_module": "@jupyter-widgets/base",
      "_model_module_version": "1.2.0",
      "_model_name": "LayoutModel",
      "_view_count": null,
      "_view_module": "@jupyter-widgets/base",
      "_view_module_version": "1.2.0",
      "_view_name": "LayoutView",
      "align_content": null,
      "align_items": null,
      "align_self": null,
      "border": null,
      "bottom": null,
      "display": null,
      "flex": null,
      "flex_flow": null,
      "grid_area": null,
      "grid_auto_columns": null,
      "grid_auto_flow": null,
      "grid_auto_rows": null,
      "grid_column": null,
      "grid_gap": null,
      "grid_row": null,
      "grid_template_areas": null,
      "grid_template_columns": null,
      "grid_template_rows": null,
      "height": null,
      "justify_content": null,
      "justify_items": null,
      "left": null,
      "margin": null,
      "max_height": null,
      "max_width": null,
      "min_height": null,
      "min_width": null,
      "object_fit": null,
      "object_position": null,
      "order": null,
      "overflow": null,
      "overflow_x": null,
      "overflow_y": null,
      "padding": null,
      "right": null,
      "top": null,
      "visibility": null,
      "width": null
     }
    },
    "a412a674d8dc49b893dbee6acd87e857": {
     "model_module": "@jupyter-widgets/controls",
     "model_name": "ProgressStyleModel",
     "state": {
      "_model_module": "@jupyter-widgets/controls",
      "_model_module_version": "1.5.0",
      "_model_name": "ProgressStyleModel",
      "_view_count": null,
      "_view_module": "@jupyter-widgets/base",
      "_view_module_version": "1.2.0",
      "_view_name": "StyleView",
      "bar_color": null,
      "description_width": "initial"
     }
    },
    "a63187339f1843e793133c5427963658": {
     "model_module": "@jupyter-widgets/controls",
     "model_name": "HTMLModel",
     "state": {
      "_dom_classes": [],
      "_model_module": "@jupyter-widgets/controls",
      "_model_module_version": "1.5.0",
      "_model_name": "HTMLModel",
      "_view_count": null,
      "_view_module": "@jupyter-widgets/controls",
      "_view_module_version": "1.5.0",
      "_view_name": "HTMLView",
      "description": "",
      "description_tooltip": null,
      "layout": "IPY_MODEL_ada6d502525f42c3b683be6cbb01c68a",
      "placeholder": "​",
      "style": "IPY_MODEL_3db78495a86a430aa5e0be42660b7a7f",
      "value": " 313/? [00:01&lt;00:00, 195.54it/s]"
     }
    },
    "a632d187c67e4f05bbf85a22e5f2d133": {
     "model_module": "@jupyter-widgets/controls",
     "model_name": "ProgressStyleModel",
     "state": {
      "_model_module": "@jupyter-widgets/controls",
      "_model_module_version": "1.5.0",
      "_model_name": "ProgressStyleModel",
      "_view_count": null,
      "_view_module": "@jupyter-widgets/base",
      "_view_module_version": "1.2.0",
      "_view_name": "StyleView",
      "bar_color": null,
      "description_width": "initial"
     }
    },
    "aac154568aa744bfb693efba3780fcd7": {
     "model_module": "@jupyter-widgets/base",
     "model_name": "LayoutModel",
     "state": {
      "_model_module": "@jupyter-widgets/base",
      "_model_module_version": "1.2.0",
      "_model_name": "LayoutModel",
      "_view_count": null,
      "_view_module": "@jupyter-widgets/base",
      "_view_module_version": "1.2.0",
      "_view_name": "LayoutView",
      "align_content": null,
      "align_items": null,
      "align_self": null,
      "border": null,
      "bottom": null,
      "display": null,
      "flex": null,
      "flex_flow": null,
      "grid_area": null,
      "grid_auto_columns": null,
      "grid_auto_flow": null,
      "grid_auto_rows": null,
      "grid_column": null,
      "grid_gap": null,
      "grid_row": null,
      "grid_template_areas": null,
      "grid_template_columns": null,
      "grid_template_rows": null,
      "height": null,
      "justify_content": null,
      "justify_items": null,
      "left": null,
      "margin": null,
      "max_height": null,
      "max_width": null,
      "min_height": null,
      "min_width": null,
      "object_fit": null,
      "object_position": null,
      "order": null,
      "overflow": null,
      "overflow_x": null,
      "overflow_y": null,
      "padding": null,
      "right": null,
      "top": null,
      "visibility": null,
      "width": null
     }
    },
    "ada6d502525f42c3b683be6cbb01c68a": {
     "model_module": "@jupyter-widgets/base",
     "model_name": "LayoutModel",
     "state": {
      "_model_module": "@jupyter-widgets/base",
      "_model_module_version": "1.2.0",
      "_model_name": "LayoutModel",
      "_view_count": null,
      "_view_module": "@jupyter-widgets/base",
      "_view_module_version": "1.2.0",
      "_view_name": "LayoutView",
      "align_content": null,
      "align_items": null,
      "align_self": null,
      "border": null,
      "bottom": null,
      "display": null,
      "flex": null,
      "flex_flow": null,
      "grid_area": null,
      "grid_auto_columns": null,
      "grid_auto_flow": null,
      "grid_auto_rows": null,
      "grid_column": null,
      "grid_gap": null,
      "grid_row": null,
      "grid_template_areas": null,
      "grid_template_columns": null,
      "grid_template_rows": null,
      "height": null,
      "justify_content": null,
      "justify_items": null,
      "left": null,
      "margin": null,
      "max_height": null,
      "max_width": null,
      "min_height": null,
      "min_width": null,
      "object_fit": null,
      "object_position": null,
      "order": null,
      "overflow": null,
      "overflow_x": null,
      "overflow_y": null,
      "padding": null,
      "right": null,
      "top": null,
      "visibility": null,
      "width": null
     }
    },
    "ae1508cc4b074103aaea6f762667c005": {
     "model_module": "@jupyter-widgets/controls",
     "model_name": "FloatProgressModel",
     "state": {
      "_dom_classes": [],
      "_model_module": "@jupyter-widgets/controls",
      "_model_module_version": "1.5.0",
      "_model_name": "FloatProgressModel",
      "_view_count": null,
      "_view_module": "@jupyter-widgets/controls",
      "_view_module_version": "1.5.0",
      "_view_name": "ProgressView",
      "bar_style": "danger",
      "description": " 58%",
      "description_tooltip": null,
      "layout": "IPY_MODEL_9994e0a66e6343fdb04c8248ff6f773f",
      "max": 1875,
      "min": 0,
      "orientation": "horizontal",
      "style": "IPY_MODEL_74a05ddbda3347e98f8d7df35df00477",
      "value": 1091
     }
    },
    "b0e9633c0d1a4be4960ce22a2c02904e": {
     "model_module": "@jupyter-widgets/controls",
     "model_name": "FloatProgressModel",
     "state": {
      "_dom_classes": [],
      "_model_module": "@jupyter-widgets/controls",
      "_model_module_version": "1.5.0",
      "_model_name": "FloatProgressModel",
      "_view_count": null,
      "_view_module": "@jupyter-widgets/controls",
      "_view_module_version": "1.5.0",
      "_view_name": "ProgressView",
      "bar_style": "success",
      "description": "100%",
      "description_tooltip": null,
      "layout": "IPY_MODEL_aac154568aa744bfb693efba3780fcd7",
      "max": 1875,
      "min": 0,
      "orientation": "horizontal",
      "style": "IPY_MODEL_3dd5d6399d6346deba300612936a92a2",
      "value": 1875
     }
    },
    "b4b143707ea047e88ae6808095a88673": {
     "model_module": "@jupyter-widgets/base",
     "model_name": "LayoutModel",
     "state": {
      "_model_module": "@jupyter-widgets/base",
      "_model_module_version": "1.2.0",
      "_model_name": "LayoutModel",
      "_view_count": null,
      "_view_module": "@jupyter-widgets/base",
      "_view_module_version": "1.2.0",
      "_view_name": "LayoutView",
      "align_content": null,
      "align_items": null,
      "align_self": null,
      "border": null,
      "bottom": null,
      "display": null,
      "flex": null,
      "flex_flow": null,
      "grid_area": null,
      "grid_auto_columns": null,
      "grid_auto_flow": null,
      "grid_auto_rows": null,
      "grid_column": null,
      "grid_gap": null,
      "grid_row": null,
      "grid_template_areas": null,
      "grid_template_columns": null,
      "grid_template_rows": null,
      "height": null,
      "justify_content": null,
      "justify_items": null,
      "left": null,
      "margin": null,
      "max_height": null,
      "max_width": null,
      "min_height": null,
      "min_width": null,
      "object_fit": null,
      "object_position": null,
      "order": null,
      "overflow": null,
      "overflow_x": null,
      "overflow_y": null,
      "padding": null,
      "right": null,
      "top": null,
      "visibility": null,
      "width": null
     }
    },
    "ba22f162166542ef9ab1c2706b9e6ac3": {
     "model_module": "@jupyter-widgets/controls",
     "model_name": "ProgressStyleModel",
     "state": {
      "_model_module": "@jupyter-widgets/controls",
      "_model_module_version": "1.5.0",
      "_model_name": "ProgressStyleModel",
      "_view_count": null,
      "_view_module": "@jupyter-widgets/base",
      "_view_module_version": "1.2.0",
      "_view_name": "StyleView",
      "bar_color": null,
      "description_width": "initial"
     }
    },
    "ba7ac4e9015c4905aed2321941ab7236": {
     "model_module": "@jupyter-widgets/base",
     "model_name": "LayoutModel",
     "state": {
      "_model_module": "@jupyter-widgets/base",
      "_model_module_version": "1.2.0",
      "_model_name": "LayoutModel",
      "_view_count": null,
      "_view_module": "@jupyter-widgets/base",
      "_view_module_version": "1.2.0",
      "_view_name": "LayoutView",
      "align_content": null,
      "align_items": null,
      "align_self": null,
      "border": null,
      "bottom": null,
      "display": null,
      "flex": null,
      "flex_flow": null,
      "grid_area": null,
      "grid_auto_columns": null,
      "grid_auto_flow": null,
      "grid_auto_rows": null,
      "grid_column": null,
      "grid_gap": null,
      "grid_row": null,
      "grid_template_areas": null,
      "grid_template_columns": null,
      "grid_template_rows": null,
      "height": null,
      "justify_content": null,
      "justify_items": null,
      "left": null,
      "margin": null,
      "max_height": null,
      "max_width": null,
      "min_height": null,
      "min_width": null,
      "object_fit": null,
      "object_position": null,
      "order": null,
      "overflow": null,
      "overflow_x": null,
      "overflow_y": null,
      "padding": null,
      "right": null,
      "top": null,
      "visibility": null,
      "width": null
     }
    },
    "bc42a2c3f3654264a4a05f323df136e5": {
     "model_module": "@jupyter-widgets/base",
     "model_name": "LayoutModel",
     "state": {
      "_model_module": "@jupyter-widgets/base",
      "_model_module_version": "1.2.0",
      "_model_name": "LayoutModel",
      "_view_count": null,
      "_view_module": "@jupyter-widgets/base",
      "_view_module_version": "1.2.0",
      "_view_name": "LayoutView",
      "align_content": null,
      "align_items": null,
      "align_self": null,
      "border": null,
      "bottom": null,
      "display": null,
      "flex": null,
      "flex_flow": null,
      "grid_area": null,
      "grid_auto_columns": null,
      "grid_auto_flow": null,
      "grid_auto_rows": null,
      "grid_column": null,
      "grid_gap": null,
      "grid_row": null,
      "grid_template_areas": null,
      "grid_template_columns": null,
      "grid_template_rows": null,
      "height": null,
      "justify_content": null,
      "justify_items": null,
      "left": null,
      "margin": null,
      "max_height": null,
      "max_width": null,
      "min_height": null,
      "min_width": null,
      "object_fit": null,
      "object_position": null,
      "order": null,
      "overflow": null,
      "overflow_x": null,
      "overflow_y": null,
      "padding": null,
      "right": null,
      "top": null,
      "visibility": null,
      "width": null
     }
    },
    "bda87d92c6684eb09c60ad422d10c682": {
     "model_module": "@jupyter-widgets/controls",
     "model_name": "DescriptionStyleModel",
     "state": {
      "_model_module": "@jupyter-widgets/controls",
      "_model_module_version": "1.5.0",
      "_model_name": "DescriptionStyleModel",
      "_view_count": null,
      "_view_module": "@jupyter-widgets/base",
      "_view_module_version": "1.2.0",
      "_view_name": "StyleView",
      "description_width": ""
     }
    },
    "bff25c9970db4f8fbf7035e2a8a9754c": {
     "model_module": "@jupyter-widgets/base",
     "model_name": "LayoutModel",
     "state": {
      "_model_module": "@jupyter-widgets/base",
      "_model_module_version": "1.2.0",
      "_model_name": "LayoutModel",
      "_view_count": null,
      "_view_module": "@jupyter-widgets/base",
      "_view_module_version": "1.2.0",
      "_view_name": "LayoutView",
      "align_content": null,
      "align_items": null,
      "align_self": null,
      "border": null,
      "bottom": null,
      "display": null,
      "flex": null,
      "flex_flow": null,
      "grid_area": null,
      "grid_auto_columns": null,
      "grid_auto_flow": null,
      "grid_auto_rows": null,
      "grid_column": null,
      "grid_gap": null,
      "grid_row": null,
      "grid_template_areas": null,
      "grid_template_columns": null,
      "grid_template_rows": null,
      "height": null,
      "justify_content": null,
      "justify_items": null,
      "left": null,
      "margin": null,
      "max_height": null,
      "max_width": null,
      "min_height": null,
      "min_width": null,
      "object_fit": null,
      "object_position": null,
      "order": null,
      "overflow": null,
      "overflow_x": null,
      "overflow_y": null,
      "padding": null,
      "right": null,
      "top": null,
      "visibility": null,
      "width": null
     }
    },
    "ccf4f301ffd5458f8ffac577bfac4cdf": {
     "model_module": "@jupyter-widgets/base",
     "model_name": "LayoutModel",
     "state": {
      "_model_module": "@jupyter-widgets/base",
      "_model_module_version": "1.2.0",
      "_model_name": "LayoutModel",
      "_view_count": null,
      "_view_module": "@jupyter-widgets/base",
      "_view_module_version": "1.2.0",
      "_view_name": "LayoutView",
      "align_content": null,
      "align_items": null,
      "align_self": null,
      "border": null,
      "bottom": null,
      "display": null,
      "flex": null,
      "flex_flow": null,
      "grid_area": null,
      "grid_auto_columns": null,
      "grid_auto_flow": null,
      "grid_auto_rows": null,
      "grid_column": null,
      "grid_gap": null,
      "grid_row": null,
      "grid_template_areas": null,
      "grid_template_columns": null,
      "grid_template_rows": null,
      "height": null,
      "justify_content": null,
      "justify_items": null,
      "left": null,
      "margin": null,
      "max_height": null,
      "max_width": null,
      "min_height": null,
      "min_width": null,
      "object_fit": null,
      "object_position": null,
      "order": null,
      "overflow": null,
      "overflow_x": null,
      "overflow_y": null,
      "padding": null,
      "right": null,
      "top": null,
      "visibility": null,
      "width": null
     }
    },
    "cef13148cef0417c8a738ab6746d61eb": {
     "model_module": "@jupyter-widgets/controls",
     "model_name": "FloatProgressModel",
     "state": {
      "_dom_classes": [],
      "_model_module": "@jupyter-widgets/controls",
      "_model_module_version": "1.5.0",
      "_model_name": "FloatProgressModel",
      "_view_count": null,
      "_view_module": "@jupyter-widgets/controls",
      "_view_module_version": "1.5.0",
      "_view_name": "ProgressView",
      "bar_style": "success",
      "description": "",
      "description_tooltip": null,
      "layout": "IPY_MODEL_ecdebf75db9f49ec93a9339aa3858135",
      "max": 312.5,
      "min": 0,
      "orientation": "horizontal",
      "style": "IPY_MODEL_a412a674d8dc49b893dbee6acd87e857",
      "value": 312.5
     }
    },
    "d045b0248bb34ca08f5a10a50381a0aa": {
     "model_module": "@jupyter-widgets/base",
     "model_name": "LayoutModel",
     "state": {
      "_model_module": "@jupyter-widgets/base",
      "_model_module_version": "1.2.0",
      "_model_name": "LayoutModel",
      "_view_count": null,
      "_view_module": "@jupyter-widgets/base",
      "_view_module_version": "1.2.0",
      "_view_name": "LayoutView",
      "align_content": null,
      "align_items": null,
      "align_self": null,
      "border": null,
      "bottom": null,
      "display": null,
      "flex": null,
      "flex_flow": null,
      "grid_area": null,
      "grid_auto_columns": null,
      "grid_auto_flow": null,
      "grid_auto_rows": null,
      "grid_column": null,
      "grid_gap": null,
      "grid_row": null,
      "grid_template_areas": null,
      "grid_template_columns": null,
      "grid_template_rows": null,
      "height": null,
      "justify_content": null,
      "justify_items": null,
      "left": null,
      "margin": null,
      "max_height": null,
      "max_width": null,
      "min_height": null,
      "min_width": null,
      "object_fit": null,
      "object_position": null,
      "order": null,
      "overflow": null,
      "overflow_x": null,
      "overflow_y": null,
      "padding": null,
      "right": null,
      "top": null,
      "visibility": null,
      "width": null
     }
    },
    "d46271ece22b4859941b0b0f1917ff3a": {
     "model_module": "@jupyter-widgets/controls",
     "model_name": "HTMLModel",
     "state": {
      "_dom_classes": [],
      "_model_module": "@jupyter-widgets/controls",
      "_model_module_version": "1.5.0",
      "_model_name": "HTMLModel",
      "_view_count": null,
      "_view_module": "@jupyter-widgets/controls",
      "_view_module_version": "1.5.0",
      "_view_name": "HTMLView",
      "description": "",
      "description_tooltip": null,
      "layout": "IPY_MODEL_ccf4f301ffd5458f8ffac577bfac4cdf",
      "placeholder": "​",
      "style": "IPY_MODEL_bda87d92c6684eb09c60ad422d10c682",
      "value": " 1875/1875.0 [00:33&lt;00:00, 56.59it/s]"
     }
    },
    "d5cfcb8df03f478b8c962d550e90b807": {
     "model_module": "@jupyter-widgets/controls",
     "model_name": "HTMLModel",
     "state": {
      "_dom_classes": [],
      "_model_module": "@jupyter-widgets/controls",
      "_model_module_version": "1.5.0",
      "_model_name": "HTMLModel",
      "_view_count": null,
      "_view_module": "@jupyter-widgets/controls",
      "_view_module_version": "1.5.0",
      "_view_name": "HTMLView",
      "description": "",
      "description_tooltip": null,
      "layout": "IPY_MODEL_a17fa58372084bcd89c12c1f8339abce",
      "placeholder": "​",
      "style": "IPY_MODEL_4a2807d7958a48158724880723b634f9",
      "value": " 313/? [00:11&lt;00:00, 27.20it/s]"
     }
    },
    "e63529e7eb3240b287d9710e0c08d18b": {
     "model_module": "@jupyter-widgets/base",
     "model_name": "LayoutModel",
     "state": {
      "_model_module": "@jupyter-widgets/base",
      "_model_module_version": "1.2.0",
      "_model_name": "LayoutModel",
      "_view_count": null,
      "_view_module": "@jupyter-widgets/base",
      "_view_module_version": "1.2.0",
      "_view_name": "LayoutView",
      "align_content": null,
      "align_items": null,
      "align_self": null,
      "border": null,
      "bottom": null,
      "display": null,
      "flex": null,
      "flex_flow": null,
      "grid_area": null,
      "grid_auto_columns": null,
      "grid_auto_flow": null,
      "grid_auto_rows": null,
      "grid_column": null,
      "grid_gap": null,
      "grid_row": null,
      "grid_template_areas": null,
      "grid_template_columns": null,
      "grid_template_rows": null,
      "height": null,
      "justify_content": null,
      "justify_items": null,
      "left": null,
      "margin": null,
      "max_height": null,
      "max_width": null,
      "min_height": null,
      "min_width": null,
      "object_fit": null,
      "object_position": null,
      "order": null,
      "overflow": null,
      "overflow_x": null,
      "overflow_y": null,
      "padding": null,
      "right": null,
      "top": null,
      "visibility": null,
      "width": null
     }
    },
    "ecdebf75db9f49ec93a9339aa3858135": {
     "model_module": "@jupyter-widgets/base",
     "model_name": "LayoutModel",
     "state": {
      "_model_module": "@jupyter-widgets/base",
      "_model_module_version": "1.2.0",
      "_model_name": "LayoutModel",
      "_view_count": null,
      "_view_module": "@jupyter-widgets/base",
      "_view_module_version": "1.2.0",
      "_view_name": "LayoutView",
      "align_content": null,
      "align_items": null,
      "align_self": null,
      "border": null,
      "bottom": null,
      "display": null,
      "flex": null,
      "flex_flow": null,
      "grid_area": null,
      "grid_auto_columns": null,
      "grid_auto_flow": null,
      "grid_auto_rows": null,
      "grid_column": null,
      "grid_gap": null,
      "grid_row": null,
      "grid_template_areas": null,
      "grid_template_columns": null,
      "grid_template_rows": null,
      "height": null,
      "justify_content": null,
      "justify_items": null,
      "left": null,
      "margin": null,
      "max_height": null,
      "max_width": null,
      "min_height": null,
      "min_width": null,
      "object_fit": null,
      "object_position": null,
      "order": null,
      "overflow": null,
      "overflow_x": null,
      "overflow_y": null,
      "padding": null,
      "right": null,
      "top": null,
      "visibility": null,
      "width": null
     }
    },
    "ee319a035058442287ce822bba02ad71": {
     "model_module": "@jupyter-widgets/base",
     "model_name": "LayoutModel",
     "state": {
      "_model_module": "@jupyter-widgets/base",
      "_model_module_version": "1.2.0",
      "_model_name": "LayoutModel",
      "_view_count": null,
      "_view_module": "@jupyter-widgets/base",
      "_view_module_version": "1.2.0",
      "_view_name": "LayoutView",
      "align_content": null,
      "align_items": null,
      "align_self": null,
      "border": null,
      "bottom": null,
      "display": null,
      "flex": null,
      "flex_flow": null,
      "grid_area": null,
      "grid_auto_columns": null,
      "grid_auto_flow": null,
      "grid_auto_rows": null,
      "grid_column": null,
      "grid_gap": null,
      "grid_row": null,
      "grid_template_areas": null,
      "grid_template_columns": null,
      "grid_template_rows": null,
      "height": null,
      "justify_content": null,
      "justify_items": null,
      "left": null,
      "margin": null,
      "max_height": null,
      "max_width": null,
      "min_height": null,
      "min_width": null,
      "object_fit": null,
      "object_position": null,
      "order": null,
      "overflow": null,
      "overflow_x": null,
      "overflow_y": null,
      "padding": null,
      "right": null,
      "top": null,
      "visibility": null,
      "width": null
     }
    },
    "ee78efa9aee54b6b8ff235f118b8a313": {
     "model_module": "@jupyter-widgets/base",
     "model_name": "LayoutModel",
     "state": {
      "_model_module": "@jupyter-widgets/base",
      "_model_module_version": "1.2.0",
      "_model_name": "LayoutModel",
      "_view_count": null,
      "_view_module": "@jupyter-widgets/base",
      "_view_module_version": "1.2.0",
      "_view_name": "LayoutView",
      "align_content": null,
      "align_items": null,
      "align_self": null,
      "border": null,
      "bottom": null,
      "display": null,
      "flex": null,
      "flex_flow": null,
      "grid_area": null,
      "grid_auto_columns": null,
      "grid_auto_flow": null,
      "grid_auto_rows": null,
      "grid_column": null,
      "grid_gap": null,
      "grid_row": null,
      "grid_template_areas": null,
      "grid_template_columns": null,
      "grid_template_rows": null,
      "height": null,
      "justify_content": null,
      "justify_items": null,
      "left": null,
      "margin": null,
      "max_height": null,
      "max_width": null,
      "min_height": null,
      "min_width": null,
      "object_fit": null,
      "object_position": null,
      "order": null,
      "overflow": null,
      "overflow_x": null,
      "overflow_y": null,
      "padding": null,
      "right": null,
      "top": null,
      "visibility": null,
      "width": null
     }
    },
    "f7204aead90a433a92bd2271863daf3b": {
     "model_module": "@jupyter-widgets/controls",
     "model_name": "HBoxModel",
     "state": {
      "_dom_classes": [],
      "_model_module": "@jupyter-widgets/controls",
      "_model_module_version": "1.5.0",
      "_model_name": "HBoxModel",
      "_view_count": null,
      "_view_module": "@jupyter-widgets/controls",
      "_view_module_version": "1.5.0",
      "_view_name": "HBoxView",
      "box_style": "",
      "children": [
       "IPY_MODEL_64b1c2c466a4437280f2f7dc87e4a06f",
       "IPY_MODEL_22a6d1b8b78a4db5a478d7dacfdf4572"
      ],
      "layout": "IPY_MODEL_176e2e730a234cf5bdeacef7252ce927"
     }
    },
    "f799662460b74057b45d1ed1729d39b2": {
     "model_module": "@jupyter-widgets/controls",
     "model_name": "HBoxModel",
     "state": {
      "_dom_classes": [],
      "_model_module": "@jupyter-widgets/controls",
      "_model_module_version": "1.5.0",
      "_model_name": "HBoxModel",
      "_view_count": null,
      "_view_module": "@jupyter-widgets/controls",
      "_view_module_version": "1.5.0",
      "_view_name": "HBoxView",
      "box_style": "",
      "children": [
       "IPY_MODEL_6ccc22055a9b44bf8545d46d3fa81055",
       "IPY_MODEL_f8f2427461ca4192980b6f5528b6a53d"
      ],
      "layout": "IPY_MODEL_bff25c9970db4f8fbf7035e2a8a9754c"
     }
    },
    "f8f2427461ca4192980b6f5528b6a53d": {
     "model_module": "@jupyter-widgets/controls",
     "model_name": "HTMLModel",
     "state": {
      "_dom_classes": [],
      "_model_module": "@jupyter-widgets/controls",
      "_model_module_version": "1.5.0",
      "_model_name": "HTMLModel",
      "_view_count": null,
      "_view_module": "@jupyter-widgets/controls",
      "_view_module_version": "1.5.0",
      "_view_name": "HTMLView",
      "description": "",
      "description_tooltip": null,
      "layout": "IPY_MODEL_d045b0248bb34ca08f5a10a50381a0aa",
      "placeholder": "​",
      "style": "IPY_MODEL_913eb5789e154eeea03d6e5f11bd6601",
      "value": " 313/? [00:01&lt;00:00, 186.96it/s]"
     }
    },
    "f8fa20e4d39e47dab126a4c1894be773": {
     "model_module": "@jupyter-widgets/controls",
     "model_name": "ProgressStyleModel",
     "state": {
      "_model_module": "@jupyter-widgets/controls",
      "_model_module_version": "1.5.0",
      "_model_name": "ProgressStyleModel",
      "_view_count": null,
      "_view_module": "@jupyter-widgets/base",
      "_view_module_version": "1.2.0",
      "_view_name": "StyleView",
      "bar_color": null,
      "description_width": "initial"
     }
    },
    "f9b255bc935e4c78ae2779cae7baa6ac": {
     "model_module": "@jupyter-widgets/controls",
     "model_name": "FloatProgressModel",
     "state": {
      "_dom_classes": [],
      "_model_module": "@jupyter-widgets/controls",
      "_model_module_version": "1.5.0",
      "_model_name": "FloatProgressModel",
      "_view_count": null,
      "_view_module": "@jupyter-widgets/controls",
      "_view_module_version": "1.5.0",
      "_view_name": "ProgressView",
      "bar_style": "success",
      "description": "100%",
      "description_tooltip": null,
      "layout": "IPY_MODEL_b4b143707ea047e88ae6808095a88673",
      "max": 1875,
      "min": 0,
      "orientation": "horizontal",
      "style": "IPY_MODEL_4c44d2f96f984ce9ba07bb811625b782",
      "value": 1875
     }
    }
   }
  }
 },
 "nbformat": 4,
 "nbformat_minor": 1
}
